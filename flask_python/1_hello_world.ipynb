{
 "cells": [
  {
   "cell_type": "code",
   "execution_count": null,
   "metadata": {},
   "outputs": [
    {
     "name": "stderr",
     "output_type": "stream",
     "text": [
      " * Running on http://127.0.0.1:5000/ (Press CTRL+C to quit)\n",
      "127.0.0.1 - - [24/Sep/2018 16:47:33] \"\u001b[33mGET /route HTTP/1.1\u001b[0m\" 404 -\n",
      "127.0.0.1 - - [24/Sep/2018 16:47:35] \"\u001b[33mGET /route HTTP/1.1\u001b[0m\" 404 -\n",
      "127.0.0.1 - - [24/Sep/2018 16:47:36] \"\u001b[33mGET /route HTTP/1.1\u001b[0m\" 404 -\n",
      "127.0.0.1 - - [24/Sep/2018 16:47:39] \"\u001b[37mGET / HTTP/1.1\u001b[0m\" 200 -\n",
      "127.0.0.1 - - [24/Sep/2018 16:47:42] \"\u001b[33mGET /route HTTP/1.1\u001b[0m\" 404 -\n"
     ]
    }
   ],
   "source": [
    "from flask import Flask\n",
    "app = Flask(__name__)\n",
    "\n",
    "@app.route('/')\n",
    "def hello_world():\n",
    "   return ('Hello World')\n",
    "\n",
    "def app_routing():\n",
    "   return ('Routed using add_url_rule')\n",
    "\n",
    "app.add_url_rule('/','route', app_routing)\n",
    "\n",
    "if __name__ == '__main__':\n",
    "   app.run()"
   ]
  },
  {
   "cell_type": "code",
   "execution_count": null,
   "metadata": {},
   "outputs": [],
   "source": [
    "var = -22/3\n",
    "print(var)"
   ]
  },
  {
   "cell_type": "code",
   "execution_count": null,
   "metadata": {},
   "outputs": [],
   "source": []
  }
 ],
 "metadata": {
  "kernelspec": {
   "display_name": "Python 3",
   "language": "python",
   "name": "python3"
  },
  "language_info": {
   "codemirror_mode": {
    "name": "ipython",
    "version": 3
   },
   "file_extension": ".py",
   "mimetype": "text/x-python",
   "name": "python",
   "nbconvert_exporter": "python",
   "pygments_lexer": "ipython3",
   "version": "3.6.1"
  }
 },
 "nbformat": 4,
 "nbformat_minor": 2
}
