{
 "cells": [
  {
   "cell_type": "code",
   "execution_count": 3,
   "metadata": {},
   "outputs": [
    {
     "name": "stdout",
     "output_type": "stream",
     "text": [
      "<zip object at 0x00000000052FC308>\n",
      "[(1, 'a'), (2, 'b'), (3, 'c'), (4, 'd'), (5, 'e')]\n"
     ]
    }
   ],
   "source": [
    "#zip function\n",
    "\n",
    "list_a = [1, 2, 3, 4, 5]\n",
    "list_b = ['a', 'b', 'c', 'd', 'e']\n",
    "zipped_list = zip(list_a, list_b)\n",
    "\n",
    "print(zipped_list)\n",
    "print (list(zipped_list ))"
   ]
  },
  {
   "cell_type": "code",
   "execution_count": 6,
   "metadata": {},
   "outputs": [
    {
     "name": "stdout",
     "output_type": "stream",
     "text": [
      "<zip object at 0x0000000004EED408>\n",
      "[(1, 'a'), (2, 'b'), (3, 'c')]\n"
     ]
    }
   ],
   "source": [
    "# zip with uneven list of elements\n",
    "# zip truncates the extra elements of list_b in the output.\n",
    "list_a = [1, 2, 3]\n",
    "list_b = ['a', 'b', 'c', 'd', 'e']\n",
    "\n",
    "zipped_list = zip(list_a, list_b)\n",
    "\n",
    "print(zipped_list)\n",
    "print (list(zipped_list ))\n",
    "# [(1, 'a'), (2, 'b'), (3, 'c')]"
   ]
  },
  {
   "cell_type": "code",
   "execution_count": 14,
   "metadata": {},
   "outputs": [
    {
     "name": "stdout",
     "output_type": "stream",
     "text": [
      "[1, 2, 3, 4, 5] ['a', 'b', 'c', 'd', 'e']\n",
      "[1, 2, 3, 4, 5] ['a', 'b', 'c', 'd', 'e']\n"
     ]
    }
   ],
   "source": [
    "# unzip a list\n",
    "\n",
    "x = [1, 2, 3, 4, 5]\n",
    "y = ['a', 'b', 'c', 'd', 'e']\n",
    "\n",
    "zipped_list = zip(x, y)\n",
    "\n",
    "# print(list(zipped_list))\n",
    "\n",
    "x2, y2 = zip(*zip(x, y))\n",
    "x3, y3 = zip(*zipped_list)\n",
    "\n",
    "print(list(x2), list(y2))\n",
    "print(list(x3), list(y3))\n"
   ]
  },
  {
   "cell_type": "code",
   "execution_count": 15,
   "metadata": {},
   "outputs": [
    {
     "name": "stdout",
     "output_type": "stream",
     "text": [
      "[2, 4, 6]\n"
     ]
    }
   ],
   "source": [
    "#filter function\n",
    "\n",
    "a = [1, 2, 3, 4, 5, 6]\n",
    "result = filter(lambda x : x % 2 == 0, a) \n",
    "\n",
    "print(list(result))"
   ]
  },
  {
   "cell_type": "code",
   "execution_count": 17,
   "metadata": {},
   "outputs": [
    {
     "name": "stdout",
     "output_type": "stream",
     "text": [
      "<filter object at 0x00000000053A2FD0>\n",
      "[{'name': 'java', 'points': 8}]\n"
     ]
    }
   ],
   "source": [
    "dict_a = [{'name': None , 'points': 10}, {'name': 'java', 'points': 8}]\n",
    "\n",
    "# Values of x\n",
    "# {'name': 'python', 'points': 10}\n",
    "# {'name': 'java', 'points': 8}\n",
    "\n",
    "result =  filter(lambda x : x['name'], dict_a)\n",
    "\n",
    "print(result)\n",
    "print(list(result))"
   ]
  },
  {
   "cell_type": "code",
   "execution_count": null,
   "metadata": {},
   "outputs": [],
   "source": []
  }
 ],
 "metadata": {
  "kernelspec": {
   "display_name": "Python 3",
   "language": "python",
   "name": "python3"
  },
  "language_info": {
   "codemirror_mode": {
    "name": "ipython",
    "version": 3
   },
   "file_extension": ".py",
   "mimetype": "text/x-python",
   "name": "python",
   "nbconvert_exporter": "python",
   "pygments_lexer": "ipython3",
   "version": "3.6.1"
  }
 },
 "nbformat": 4,
 "nbformat_minor": 2
}
