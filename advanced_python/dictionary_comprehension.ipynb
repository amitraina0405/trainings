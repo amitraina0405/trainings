{
 "cells": [
  {
   "cell_type": "code",
   "execution_count": null,
   "metadata": {},
   "outputs": [],
   "source": [
    "\n",
    "# {resulting_keys: resulting_values for iteration in series}\n",
    "\n",
    "# my_dict = {1: 'apple', 2: 'ball'}\n",
    "\n",
    "# Dictionaries are data types in Python which allows us to store data in key/value pair.\n"
   ]
  },
  {
   "cell_type": "code",
   "execution_count": 12,
   "metadata": {},
   "outputs": [
    {
     "name": "stdout",
     "output_type": "stream",
     "text": [
      "{1: 1, 2: 4, 3: 9, 4: 16, 5: 25, 6: 36, 7: 49, 8: 64, 9: 81, 10: 100}\n"
     ]
    }
   ],
   "source": [
    "\n",
    "square_dict = dict()\n",
    "for num in range(1, 11):\n",
    "    square_dict[num] = num*num\n",
    "print(square_dict)\n"
   ]
  },
  {
   "cell_type": "code",
   "execution_count": 1,
   "metadata": {},
   "outputs": [
    {
     "name": "stdout",
     "output_type": "stream",
     "text": [
      "{1: 1, 2: 4, 3: 9, 4: 16, 5: 25, 6: 36, 7: 49, 8: 64, 9: 81, 10: 100}\n"
     ]
    }
   ],
   "source": [
    "\n",
    "# dictionary comprehension example\n",
    "square_dict = {num: num*num for num in range(1, 11)}\n",
    "print(square_dict)\n"
   ]
  },
  {
   "cell_type": "code",
   "execution_count": 13,
   "metadata": {},
   "outputs": [
    {
     "name": "stdout",
     "output_type": "stream",
     "text": [
      "{'jack': 38, 'michael': 48}\n"
     ]
    }
   ],
   "source": [
    "# If Conditional Dictionary Comprehension\n",
    "\n",
    "original_dict = {'jack': 38, 'michael': 48, 'guido': 57, 'john': 33}\n",
    "\n",
    "even_dict = {k: v for (k, v) in original_dict.items() if v % 2 == 0}\n",
    "print(even_dict)"
   ]
  },
  {
   "cell_type": "code",
   "execution_count": 17,
   "metadata": {},
   "outputs": [
    {
     "name": "stdout",
     "output_type": "stream",
     "text": [
      "{'jack': 38, 'guido': 57, 'john': 33}\n"
     ]
    }
   ],
   "source": [
    "# Nested if Conditional Dictionary Comprehension\n",
    "\n",
    "original_dict = {'jack': 38, 'michael': 48, 'guido': 57, 'john': 33}\n",
    "\n",
    "new_dict = {k: v for (k, v) in original_dict.items() if v % 2 != 0 or v < 40}\n",
    "print(new_dict)\n"
   ]
  },
  {
   "cell_type": "code",
   "execution_count": 15,
   "metadata": {},
   "outputs": [
    {
     "name": "stdout",
     "output_type": "stream",
     "text": [
      "{'in', 'had', 'hat', 'the', 'two', 'cat', 'and', 'one'}\n"
     ]
    }
   ],
   "source": [
    "# Set Comprehension:\n",
    "\n",
    "words = {'and', 'cat', 'had', 'hat', 'in', 'one', 'sidekicks', 'the', 'thing', 'two'}\n",
    "unique = {word for word in words if len(word) <= 3}\n",
    "\n",
    "print(unique)"
   ]
  },
  {
   "cell_type": "code",
   "execution_count": null,
   "metadata": {},
   "outputs": [],
   "source": []
  },
  {
   "cell_type": "code",
   "execution_count": null,
   "metadata": {},
   "outputs": [],
   "source": []
  }
 ],
 "metadata": {
  "kernelspec": {
   "display_name": "Python 3",
   "language": "python",
   "name": "python3"
  },
  "language_info": {
   "codemirror_mode": {
    "name": "ipython",
    "version": 3
   },
   "file_extension": ".py",
   "mimetype": "text/x-python",
   "name": "python",
   "nbconvert_exporter": "python",
   "pygments_lexer": "ipython3",
   "version": "3.7.5"
  }
 },
 "nbformat": 4,
 "nbformat_minor": 4
}
