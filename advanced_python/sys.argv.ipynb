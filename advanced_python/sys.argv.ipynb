{
 "cells": [
  {
   "cell_type": "code",
   "execution_count": null,
   "metadata": {},
   "outputs": [],
   "source": [
    "import sys\n",
    "import getpass\n",
    "import requests\n",
    "import egnyte\n",
    "\n",
    "USAGE = '''\n",
    "Please pass a valid argument to the script \n",
    "\n",
    "USAGE : <script_name> <filename> <mode> <type>\n",
    "'''\n",
    "\n",
    "# url: https://egnytesupportteam.egnyte.com\n",
    "# username: egnytesupportteam\n",
    "# password: egnyte$upportteam\n",
    "\n",
    "print(\"This is the name of the script: \", sys.argv[0])\n",
    "print(\"Number of arguments: \", len(sys.argv))\n",
    "print(\"The arguments are: \" , str(sys.argv))\n",
    "\n",
    "\n",
    "if len(sys.argv) <= 1:\n",
    "    sys.exit()\n",
    "else:\n",
    "    execute_script = sys.argv[1]\n",
    "    print(execute_script)\n",
    "    "
   ]
  }
 ],
 "metadata": {
  "kernelspec": {
   "display_name": "Python 3",
   "language": "python",
   "name": "python3"
  },
  "language_info": {
   "codemirror_mode": {
    "name": "ipython",
    "version": 3
   },
   "file_extension": ".py",
   "mimetype": "text/x-python",
   "name": "python",
   "nbconvert_exporter": "python",
   "pygments_lexer": "ipython3",
   "version": "3.6.1"
  }
 },
 "nbformat": 4,
 "nbformat_minor": 2
}
