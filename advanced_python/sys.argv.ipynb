{
 "cells": [
  {
   "cell_type": "code",
   "execution_count": 3,
   "metadata": {},
   "outputs": [
    {
     "name": "stdout",
     "output_type": "stream",
     "text": [
      "This is the name of the script:  c:\\users\\chawla_r\\appdata\\local\\programs\\python\\python37\\lib\\site-packages\\ipykernel_launcher.py\n",
      "Number of arguments:  3\n",
      "The arguments are:  ['c:\\\\users\\\\chawla_r\\\\appdata\\\\local\\\\programs\\\\python\\\\python37\\\\lib\\\\site-packages\\\\ipykernel_launcher.py', '-f', 'C:\\\\Users\\\\chawla_r\\\\AppData\\\\Roaming\\\\jupyter\\\\runtime\\\\kernel-2b85de9a-46c7-4d61-8bce-b89a45d4003c.json']\n",
      "-f\n"
     ]
    }
   ],
   "source": [
    "import sys\n",
    "import getpass\n",
    "\n",
    "\n",
    "USAGE = '''\n",
    "Please pass a valid argument to the script \n",
    "\n",
    "USAGE : <script_name> <filename> <mode> <type>\n",
    "'''\n",
    "print(\"This is the name of the script: \", sys.argv[0])\n",
    "print(\"Number of arguments: \", len(sys.argv))\n",
    "print(\"The arguments are: \" , str(sys.argv))\n",
    "\n",
    "\n",
    "if len(sys.argv) <= 1:\n",
    "    sys.exit()\n",
    "else:\n",
    "    execute_script = sys.argv[1]\n",
    "    print(execute_script)\n",
    "    "
   ]
  },
  {
   "cell_type": "code",
   "execution_count": null,
   "metadata": {},
   "outputs": [],
   "source": []
  }
 ],
 "metadata": {
  "kernelspec": {
   "display_name": "Python 3",
   "language": "python",
   "name": "python3"
  },
  "language_info": {
   "codemirror_mode": {
    "name": "ipython",
    "version": 3
   },
   "file_extension": ".py",
   "mimetype": "text/x-python",
   "name": "python",
   "nbconvert_exporter": "python",
   "pygments_lexer": "ipython3",
   "version": "3.7.5"
  }
 },
 "nbformat": 4,
 "nbformat_minor": 2
}
