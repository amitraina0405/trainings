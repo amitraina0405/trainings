{
 "cells": [
  {
   "cell_type": "code",
   "execution_count": null,
   "metadata": {},
   "outputs": [
    {
     "name": "stderr",
     "output_type": "stream",
     "text": [
      " * Running on http://127.0.0.1:5000/ (Press CTRL+C to quit)\n",
      "[2018-10-22 12:13:55,749] ERROR in app: Exception on /empdb/employee/del/1000 [DELETE]\n",
      "Traceback (most recent call last):\n",
      "  File \"c:\\users\\chawla_r\\appdata\\local\\programs\\python\\python36\\lib\\site-packages\\flask\\app.py\", line 1982, in wsgi_app\n",
      "    response = self.full_dispatch_request()\n",
      "  File \"c:\\users\\chawla_r\\appdata\\local\\programs\\python\\python36\\lib\\site-packages\\flask\\app.py\", line 1614, in full_dispatch_request\n",
      "    rv = self.handle_user_exception(e)\n",
      "  File \"c:\\users\\chawla_r\\appdata\\local\\programs\\python\\python36\\lib\\site-packages\\flask\\app.py\", line 1517, in handle_user_exception\n",
      "    reraise(exc_type, exc_value, tb)\n",
      "  File \"c:\\users\\chawla_r\\appdata\\local\\programs\\python\\python36\\lib\\site-packages\\flask\\_compat.py\", line 33, in reraise\n",
      "    raise value\n",
      "  File \"c:\\users\\chawla_r\\appdata\\local\\programs\\python\\python36\\lib\\site-packages\\flask\\app.py\", line 1612, in full_dispatch_request\n",
      "    rv = self.dispatch_request()\n",
      "  File \"c:\\users\\chawla_r\\appdata\\local\\programs\\python\\python36\\lib\\site-packages\\flask\\app.py\", line 1598, in dispatch_request\n",
      "    return self.view_functions[rule.endpoint](**req.view_args)\n",
      "  File \"<ipython-input-1-1da6f7602b90>\", line 80, in deleteEmp\n",
      "    empDB.remove(em[0])\n",
      "IndexError: list index out of range\n",
      "127.0.0.1 - - [22/Oct/2018 12:13:55] \"\u001b[1m\u001b[35mDELETE /empdb/employee/del/1000 HTTP/1.1\u001b[0m\" 500 -\n",
      "127.0.0.1 - - [22/Oct/2018 12:14:41] \"\u001b[37mGET /empdb/employee HTTP/1.1\u001b[0m\" 200 -\n",
      "127.0.0.1 - - [22/Oct/2018 12:14:47] \"\u001b[37mDELETE /empdb/employee/del/101 HTTP/1.1\u001b[0m\" 200 -\n",
      "127.0.0.1 - - [22/Oct/2018 12:15:00] \"\u001b[37mGET /empdb/employee HTTP/1.1\u001b[0m\" 200 -\n",
      "127.0.0.1 - - [22/Oct/2018 12:15:53] \"\u001b[37mPOST /emp/post HTTP/1.1\u001b[0m\" 200 -\n"
     ]
    },
    {
     "name": "stdout",
     "output_type": "stream",
     "text": [
      "Request Paylosd: {'id': 1000, 'name': 'Ritu', 'title': 'Chawla'}\n"
     ]
    },
    {
     "name": "stderr",
     "output_type": "stream",
     "text": [
      "127.0.0.1 - - [22/Oct/2018 12:16:48] \"\u001b[37mGET /empdb/employee HTTP/1.1\u001b[0m\" 200 -\n",
      "[2018-10-22 12:17:04,547] ERROR in app: Exception on /empdb/employ/1000 [PUT]\n",
      "Traceback (most recent call last):\n",
      "  File \"c:\\users\\chawla_r\\appdata\\local\\programs\\python\\python36\\lib\\site-packages\\flask\\app.py\", line 1982, in wsgi_app\n",
      "    response = self.full_dispatch_request()\n",
      "  File \"c:\\users\\chawla_r\\appdata\\local\\programs\\python\\python36\\lib\\site-packages\\flask\\app.py\", line 1614, in full_dispatch_request\n",
      "    rv = self.handle_user_exception(e)\n",
      "  File \"c:\\users\\chawla_r\\appdata\\local\\programs\\python\\python36\\lib\\site-packages\\flask\\app.py\", line 1517, in handle_user_exception\n",
      "    reraise(exc_type, exc_value, tb)\n",
      "  File \"c:\\users\\chawla_r\\appdata\\local\\programs\\python\\python36\\lib\\site-packages\\flask\\_compat.py\", line 33, in reraise\n",
      "    raise value\n",
      "  File \"c:\\users\\chawla_r\\appdata\\local\\programs\\python\\python36\\lib\\site-packages\\flask\\app.py\", line 1612, in full_dispatch_request\n",
      "    rv = self.dispatch_request()\n",
      "  File \"c:\\users\\chawla_r\\appdata\\local\\programs\\python\\python36\\lib\\site-packages\\flask\\app.py\", line 1598, in dispatch_request\n",
      "    return self.view_functions[rule.endpoint](**req.view_args)\n",
      "  File \"<ipython-input-1-1da6f7602b90>\", line 90, in updateEmp\n",
      "    em[0]['name'] = request.json['name']\n",
      "IndexError: list index out of range\n",
      "127.0.0.1 - - [22/Oct/2018 12:17:04] \"\u001b[1m\u001b[35mPUT /empdb/employ/1000 HTTP/1.1\u001b[0m\" 500 -\n"
     ]
    },
    {
     "name": "stdout",
     "output_type": "stream",
     "text": [
      "{'name': 'Xoriant', 'title': 'Training'}\n"
     ]
    },
    {
     "name": "stderr",
     "output_type": "stream",
     "text": [
      "127.0.0.1 - - [22/Oct/2018 12:19:04] \"\u001b[37mGET /empdb/employee HTTP/1.1\u001b[0m\" 200 -\n",
      "127.0.0.1 - - [22/Oct/2018 12:19:13] \"\u001b[37mPUT /empdb/employ/201 HTTP/1.1\u001b[0m\" 200 -\n"
     ]
    },
    {
     "name": "stdout",
     "output_type": "stream",
     "text": [
      "{'name': 'Xoriant', 'title': 'Training'}\n"
     ]
    },
    {
     "name": "stderr",
     "output_type": "stream",
     "text": [
      "[2018-10-22 12:19:25,631] ERROR in app: Exception on /empdb/employ/1000 [PUT]\n",
      "Traceback (most recent call last):\n",
      "  File \"c:\\users\\chawla_r\\appdata\\local\\programs\\python\\python36\\lib\\site-packages\\flask\\app.py\", line 1982, in wsgi_app\n",
      "    response = self.full_dispatch_request()\n",
      "  File \"c:\\users\\chawla_r\\appdata\\local\\programs\\python\\python36\\lib\\site-packages\\flask\\app.py\", line 1614, in full_dispatch_request\n",
      "    rv = self.handle_user_exception(e)\n",
      "  File \"c:\\users\\chawla_r\\appdata\\local\\programs\\python\\python36\\lib\\site-packages\\flask\\app.py\", line 1517, in handle_user_exception\n",
      "    reraise(exc_type, exc_value, tb)\n",
      "  File \"c:\\users\\chawla_r\\appdata\\local\\programs\\python\\python36\\lib\\site-packages\\flask\\_compat.py\", line 33, in reraise\n",
      "    raise value\n",
      "  File \"c:\\users\\chawla_r\\appdata\\local\\programs\\python\\python36\\lib\\site-packages\\flask\\app.py\", line 1612, in full_dispatch_request\n",
      "    rv = self.dispatch_request()\n",
      "  File \"c:\\users\\chawla_r\\appdata\\local\\programs\\python\\python36\\lib\\site-packages\\flask\\app.py\", line 1598, in dispatch_request\n",
      "    return self.view_functions[rule.endpoint](**req.view_args)\n",
      "  File \"<ipython-input-1-1da6f7602b90>\", line 90, in updateEmp\n",
      "    em[0]['name'] = request.json['name']\n",
      "IndexError: list index out of range\n",
      "127.0.0.1 - - [22/Oct/2018 12:19:25] \"\u001b[1m\u001b[35mPUT /empdb/employ/1000 HTTP/1.1\u001b[0m\" 500 -\n"
     ]
    },
    {
     "name": "stdout",
     "output_type": "stream",
     "text": [
      "{'name': 'Xoriant', 'title': 'Training'}\n"
     ]
    },
    {
     "name": "stderr",
     "output_type": "stream",
     "text": [
      "127.0.0.1 - - [22/Oct/2018 12:19:32] \"\u001b[37mGET /empdb/employee HTTP/1.1\u001b[0m\" 200 -\n",
      "127.0.0.1 - - [22/Oct/2018 12:27:50] \"\u001b[37mPOST /empdb/employee HTTP/1.1\u001b[0m\" 200 -\n"
     ]
    },
    {
     "name": "stdout",
     "output_type": "stream",
     "text": [
      "<class 'dict'>\n"
     ]
    },
    {
     "name": "stderr",
     "output_type": "stream",
     "text": [
      "127.0.0.1 - - [22/Oct/2018 12:27:58] \"\u001b[37mGET /empdb/employee HTTP/1.1\u001b[0m\" 200 -\n"
     ]
    }
   ],
   "source": [
    "\"\"\"\n",
    "CRUD\n",
    "\n",
    "POST : CREATE\n",
    "GET  : RETRIEVE\n",
    "DELETE : DELETE\n",
    "PUT : UPDATE\n",
    "\"\"\"\n",
    "\n",
    "# https://dzone.com/articles/restful-web-services-with-python-flask\n",
    "# https://stormpath.com/blog/put-or-post\n",
    "import json\n",
    "from flask import Flask\n",
    "from flask import jsonify\n",
    "from flask import request\n",
    "app = Flask(__name__)\n",
    "\n",
    "empDB=[\n",
    "    {\n",
    "        'id': '101',\n",
    "        'name': 'Saravanan S',\n",
    "        'title': 'Technical Leader'\n",
    "    },\n",
    "    {\n",
    "        'id': '201',\n",
    "        'name': 'Rajkumar P',\n",
    "        'title': 'Sr Software Engineer'\n",
    "    }\n",
    "]\n",
    "\n",
    "@app.route('/',methods=['GET'])\n",
    "def homepage():\n",
    "    return jsonify({'response':'Welcome to the Training Service'})\n",
    "\n",
    "@app.route('/empdb/employee',methods=['GET'])\n",
    "def getAllEmp():\n",
    "    return jsonify({'emps':empDB})\n",
    "\n",
    "\n",
    "@app.route('/empdb/employee/<empId>',methods=['GET'])\n",
    "def getEmp(empId):\n",
    "    usr = [ emp for emp in empDB if (emp['id'] == empId) ]\n",
    "    return jsonify({'emp':usr})\n",
    "\n",
    "\n",
    "@app.route('/empdb/employee',methods=['POST'])\n",
    "def createEmp():\n",
    "\n",
    "    print(type(request.json))\n",
    "    dat = {\n",
    "        'id':request.json['id'],\n",
    "        'name':request.json['name'],\n",
    "        'title':request.json['title']\n",
    "    }\n",
    "    empDB.append(dat)\n",
    "    return jsonify(dat)\n",
    "\n",
    "\n",
    "@app.route('/emp/post',methods=['POST'])\n",
    "def createEmp_new():\n",
    "\n",
    "    request.get_data()\n",
    "    data_dict = json.loads(request.data)\n",
    "    print('Request Paylosd: {}'.format(data_dict))\n",
    "\n",
    "    dat = {\n",
    "        'id':data_dict['id'],\n",
    "        'name':data_dict['name'],\n",
    "        'title':data_dict['title']\n",
    "    }\n",
    "    empDB.append(dat)\n",
    "    return jsonify(dat)\n",
    "\n",
    "@app.route('/empdb/employee/del/<empId>',methods=['DELETE'])\n",
    "def deleteEmp(empId):\n",
    "    em = [ emp for emp in empDB if (emp['id'] == empId) ]\n",
    "    if len(em) == 0:\n",
    "        # abort(404)\n",
    "        pass\n",
    "    empDB.remove(em[0])\n",
    "    return jsonify({'response':'Success'})\n",
    "\n",
    "@app.route('/empdb/employ/<empId>',methods=['PUT'])\n",
    "def updateEmp(empId):\n",
    "\n",
    "    print(request.json)\n",
    "    em = [ emp for emp in empDB if (emp['id'] == empId) ] # list\n",
    "\n",
    "    if 'name' in request.json :\n",
    "        em[0]['name'] = request.json['name']\n",
    "    if 'title' in request.json:\n",
    "        em[0]['title'] = request.json['title']\n",
    "    return jsonify({'emp':em[0]})\n",
    "\n",
    "\n",
    "if __name__ == '__main__':\n",
    "    app.run()\n",
    "#     host=\"0.0.0.0\""
   ]
  },
  {
   "cell_type": "code",
   "execution_count": null,
   "metadata": {},
   "outputs": [],
   "source": [
    "empDB=[\n",
    "    {\n",
    "        'id': '101',\n",
    "        'name': 'Saravanan S',\n",
    "        'title': 'Technical Leader'\n",
    "    },\n",
    "    {\n",
    "        'id': '201',\n",
    "        'name': 'Rajkumar P',\n",
    "        'title': 'Sr Software Engineer'\n",
    "    }\n",
    "]\n",
    "\n",
    "em = [ emp for emp in empDB if (emp['id'] == '101') ]\n",
    "\n",
    "print(em[0])\n",
    "em[0]['name'] = 'ritu'\n",
    "em[0]['title'] = 'company'\n",
    "\n",
    "print(id(empDB[0]))\n",
    "print(id(em[0]))\n",
    "\n",
    "print(empDB)"
   ]
  },
  {
   "cell_type": "code",
   "execution_count": null,
   "metadata": {},
   "outputs": [],
   "source": [
    ""
   ]
  }
 ],
 "metadata": {
  "kernelspec": {
   "display_name": "Python 3",
   "language": "python",
   "name": "python3"
  },
  "language_info": {
   "codemirror_mode": {
    "name": "ipython",
    "version": 3.0
   },
   "file_extension": ".py",
   "mimetype": "text/x-python",
   "name": "python",
   "nbconvert_exporter": "python",
   "pygments_lexer": "ipython3",
   "version": "3.6.1"
  }
 },
 "nbformat": 4,
 "nbformat_minor": 0
}