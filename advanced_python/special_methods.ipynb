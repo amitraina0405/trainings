{
 "cells": [
  {
   "cell_type": "code",
   "execution_count": 2,
   "metadata": {},
   "outputs": [
    {
     "ename": "TypeError",
     "evalue": "object of type 'NoLenSupport' has no len()",
     "output_type": "error",
     "traceback": [
      "\u001b[1;31m---------------------------------------------------------------------------\u001b[0m",
      "\u001b[1;31mTypeError\u001b[0m                                 Traceback (most recent call last)",
      "\u001b[1;32m<ipython-input-2-acc1060f7b33>\u001b[0m in \u001b[0;36m<module>\u001b[1;34m()\u001b[0m\n\u001b[0;32m      3\u001b[0m \u001b[1;33m\u001b[0m\u001b[0m\n\u001b[0;32m      4\u001b[0m \u001b[0mobj\u001b[0m \u001b[1;33m=\u001b[0m \u001b[0mNoLenSupport\u001b[0m\u001b[1;33m(\u001b[0m\u001b[1;33m)\u001b[0m\u001b[1;33m\u001b[0m\u001b[0m\n\u001b[1;32m----> 5\u001b[1;33m \u001b[0mlen\u001b[0m\u001b[1;33m(\u001b[0m\u001b[0mobj\u001b[0m\u001b[1;33m)\u001b[0m\u001b[1;33m\u001b[0m\u001b[0m\n\u001b[0m",
      "\u001b[1;31mTypeError\u001b[0m: object of type 'NoLenSupport' has no len()"
     ]
    }
   ],
   "source": [
    "class NoLenSupport:\n",
    "    pass\n",
    "\n",
    "obj = NoLenSupport()\n",
    "len(obj)"
   ]
  },
  {
   "cell_type": "code",
   "execution_count": 3,
   "metadata": {},
   "outputs": [
    {
     "data": {
      "text/plain": [
       "42"
      ]
     },
     "execution_count": 3,
     "metadata": {},
     "output_type": "execute_result"
    }
   ],
   "source": [
    "class LenSupport:\n",
    "    def __len__(self):\n",
    "        return 42\n",
    "\n",
    "obj = LenSupport()\n",
    "len(obj)"
   ]
  },
  {
   "cell_type": "code",
   "execution_count": 14,
   "metadata": {},
   "outputs": [
    {
     "name": "stdout",
     "output_type": "stream",
     "text": [
      "bob\n",
      "bob 10\n"
     ]
    }
   ],
   "source": [
    "class Account:\n",
    "    \"\"\"A simple account class\"\"\"\n",
    "\n",
    "    def __init__(self, owner, amount=0):\n",
    "        \"\"\"\n",
    "        This is the constructor that lets us create\n",
    "        objects from this class\n",
    "        \"\"\"\n",
    "        self.owner = owner\n",
    "        self.amount = amount\n",
    "        self._transactions = []\n",
    "    def __str__(self):\n",
    "        return self.owner + \" \" + str(self.amount)\n",
    "\n",
    "        \n",
    "acc = Account('bob')  # default amount = 0\n",
    "acc = Account('bob', 10)\n",
    "\n",
    "print(acc.owner)\n",
    "print(acc)"
   ]
  },
  {
   "cell_type": "code",
   "execution_count": 32,
   "metadata": {},
   "outputs": [
    {
     "name": "stdout",
     "output_type": "stream",
     "text": [
      "<class '__main__.Vector'>\n",
      "<class '__main__.Vector'>\n",
      "Overloaded str called\n",
      "(11, 15)\n"
     ]
    }
   ],
   "source": [
    "class Vector(object):\n",
    "    def __init__(self, *args):\n",
    "        \"\"\" Create a vector, example: v = Vector(1,2) \"\"\"\n",
    "        if len(args) == 0:\n",
    "             self.values = (0,0)\n",
    "        else:\n",
    "             self.values = args\n",
    "\n",
    "    def __add__(self, other):\n",
    "        \"\"\" Returns the vector addition of self and other \"\"\"\n",
    "        added = tuple(a + b for a, b in zip(self.values, other.values) )\n",
    "        print(type(Vector(*added)))\n",
    "        return Vector(*added)\n",
    "    \n",
    "    def __str__(self):\n",
    "        print(\"Overloaded str called\")\n",
    "#         self.values = (1,1)\n",
    "        return str(self.values)\n",
    "    \n",
    "v1 = Vector(1, 2)\n",
    "v2 = Vector(10, 13)\n",
    "print(type(v2))\n",
    "v3 = v1 + v2\n",
    "print(v3)"
   ]
  },
  {
   "cell_type": "code",
   "execution_count": null,
   "metadata": {},
   "outputs": [],
   "source": []
  }
 ],
 "metadata": {
  "kernelspec": {
   "display_name": "Python 3",
   "language": "python",
   "name": "python3"
  },
  "language_info": {
   "codemirror_mode": {
    "name": "ipython",
    "version": 3
   },
   "file_extension": ".py",
   "mimetype": "text/x-python",
   "name": "python",
   "nbconvert_exporter": "python",
   "pygments_lexer": "ipython3",
   "version": "3.6.1"
  }
 },
 "nbformat": 4,
 "nbformat_minor": 2
}
