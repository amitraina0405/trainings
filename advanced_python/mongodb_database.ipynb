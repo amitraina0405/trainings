{
 "cells": [
  {
   "cell_type": "code",
   "execution_count": 5,
   "metadata": {},
   "outputs": [],
   "source": [
    "# Execute this cell to check if the python driver for mongodb is installed correctly or not\n",
    "import pymongo"
   ]
  },
  {
   "cell_type": "code",
   "execution_count": 6,
   "metadata": {},
   "outputs": [],
   "source": [
    "#  Creating a connection with Mongo Client\n",
    "\n",
    "from pymongo import MongoClient\n",
    "client = MongoClient()\n",
    "client = MongoClient('localhost', 27017)"
   ]
  },
  {
   "cell_type": "code",
   "execution_count": 7,
   "metadata": {},
   "outputs": [],
   "source": [
    "# Get the existing database object \n",
    "db = client['training-database']\n",
    "\n",
    "# If the data base does not exist it creates one, but \n",
    "# Collections and databases are created only when the first document is inserted into them.\n",
    "# The below comand will not show anything in the DB , untill a document is inserted in a collection of this DB\n",
    "db_new = client['training-new']"
   ]
  },
  {
   "cell_type": "code",
   "execution_count": 24,
   "metadata": {
    "scrolled": true
   },
   "outputs": [
    {
     "name": "stdout",
     "output_type": "stream",
     "text": [
      "List of existing collection\n",
      "['training-collection']\n",
      "\n",
      "List of existing collection\n",
      "['collection-new']\n",
      "\n",
      "Collection(Database(MongoClient(host=['localhost:27017'], document_class=dict, tz_aware=False, connect=True), 'training-database'), 'training-collection')\n"
     ]
    }
   ],
   "source": [
    "#get list of existing collection\n",
    "\n",
    "print(\"List of existing collection\")\n",
    "collection_list = db.collection_names()\n",
    "print(collection_list)\n",
    "print()\n",
    "\n",
    "# If no collection existes returns an empty list\n",
    "print(\"List of existing collection\")\n",
    "collection_list_new = db_new.collection_names()\n",
    "print(collection_list_new)\n",
    "print()\n",
    "\n",
    "# Get the collection using name\n",
    "collection = db['training-collection']\n",
    "\n",
    "print(collection)"
   ]
  },
  {
   "cell_type": "code",
   "execution_count": 9,
   "metadata": {},
   "outputs": [
    {
     "name": "stdout",
     "output_type": "stream",
     "text": [
      "5bbd9ff7053b0633fcd61bcb\n",
      "5bbd9ff7053b0633fcd61bcc\n"
     ]
    }
   ],
   "source": [
    "# Inserting a document in mongodb collection\n",
    "\n",
    "import datetime\n",
    "post = {\"author\": \"Mike1\",\n",
    "         \"text\": \"My first blog post!\",\n",
    "         \"tags\": [\"mongodb\", \"python\", \"pymongo\"],\n",
    "         \"date\": datetime.datetime.utcnow()}\n",
    "\n",
    "# existing collection\n",
    "post_id = collection.insert_one(post).inserted_id\n",
    "print(post_id)\n",
    "\n",
    "#If the collection does not exist a new collection is created\n",
    "collection_new = db_new['collection-new']\n",
    "post_id_new = collection_new.insert_one({'post':'test'}).inserted_id\n",
    "print(post_id_new)"
   ]
  },
  {
   "cell_type": "code",
   "execution_count": 11,
   "metadata": {},
   "outputs": [
    {
     "name": "stdout",
     "output_type": "stream",
     "text": [
      "['training-collection']\n",
      "['collection-new']\n"
     ]
    }
   ],
   "source": [
    "print(db.collection_names(include_system_collections=False))\n",
    "print(db_new.collection_names(include_system_collections=False))"
   ]
  },
  {
   "cell_type": "code",
   "execution_count": 12,
   "metadata": {},
   "outputs": [
    {
     "name": "stdout",
     "output_type": "stream",
     "text": [
      "**** Get the first document in the collection **** \n",
      "\n",
      "{'_id': ObjectId('5bbd9ff7053b0633fcd61bcb'),\n",
      " 'author': 'Mike1',\n",
      " 'date': datetime.datetime(2018, 10, 10, 6, 45, 11, 334000),\n",
      " 'tags': ['mongodb', 'python', 'pymongo'],\n",
      " 'text': 'My first blog post!'}\n",
      "\n",
      "**** Get the document based on a condition in the collection **** \n",
      "\n",
      "{'_id': ObjectId('5bbd9ff7053b0633fcd61bcb'),\n",
      " 'author': 'Mike1',\n",
      " 'date': datetime.datetime(2018, 10, 10, 6, 45, 11, 334000),\n",
      " 'tags': ['mongodb', 'python', 'pymongo'],\n",
      " 'text': 'My first blog post!'}\n",
      "\n",
      "**** If no result of find_one returns None **** \n",
      "\n",
      "None\n"
     ]
    }
   ],
   "source": [
    "# QUERIES in MOngo DB\n",
    "\n",
    "import pprint\n",
    "\n",
    "# find_one\n",
    "\n",
    "print(\"**** Get the first document in the collection **** \\n\")\n",
    "pprint.pprint(collection.find_one())\n",
    "\n",
    "print()\n",
    "\n",
    "print(\"**** Get the document based on a condition in the collection **** \\n\")\n",
    "pprint.pprint(collection.find_one({'author':'Mike1'}))\n",
    "\n",
    "print(\"\\n**** If no result of find_one returns None **** \\n\")\n",
    "pprint.pprint(collection.find_one({'author':'Mike2'}))"
   ]
  },
  {
   "cell_type": "code",
   "execution_count": 15,
   "metadata": {},
   "outputs": [
    {
     "name": "stdout",
     "output_type": "stream",
     "text": [
      "<class 'bson.objectid.ObjectId'>\n"
     ]
    }
   ],
   "source": [
    "# QUERIES using ObjectId\n",
    "\n",
    "id_ret = collection.insert_one({'test':'test1', 'test2':'test2'}).inserted_id\n",
    "print(id_ret)"
   ]
  },
  {
   "cell_type": "code",
   "execution_count": 14,
   "metadata": {},
   "outputs": [
    {
     "name": "stdout",
     "output_type": "stream",
     "text": [
      "{'_id': ObjectId('5bbda11d053b0633fcd61bcd'), 'test': 'test1', 'test2': 'test2'}\n"
     ]
    }
   ],
   "source": [
    "find_res = collection.find_one({'_id':id_ret})\n",
    "print(find_res)"
   ]
  },
  {
   "cell_type": "code",
   "execution_count": 16,
   "metadata": {},
   "outputs": [],
   "source": [
    "# ObjectId is not a string , it a differnt data type\n",
    "\n",
    "id_ret_str = str(id_ret)\n",
    "collection.find_one({\"_id\": id_ret_str}) # No result"
   ]
  },
  {
   "cell_type": "code",
   "execution_count": null,
   "metadata": {},
   "outputs": [],
   "source": [
    "# USE CASE\n",
    "\n",
    "# A common task in web applications is to get an ObjectId from the request URL and find the matching document. \n",
    "# In this case convert the ObjectId from a string before passing it to find_one as below.\n",
    "\n",
    "from bson.objectid import ObjectId\n",
    "\n",
    "# The web framework gets post_id from the URL and passes it as a string\n",
    "def get(id_ret_str):\n",
    "    # Convert from string to ObjectId:\n",
    "    document = client.db.collection.find_one({'_id': ObjectId(id_ret_str)})\n",
    "    print(document)"
   ]
  },
  {
   "cell_type": "code",
   "execution_count": 17,
   "metadata": {},
   "outputs": [
    {
     "data": {
      "text/plain": [
       "[ObjectId('5bbda204053b0633fcd61bcf'), ObjectId('5bbda204053b0633fcd61bd0')]"
      ]
     },
     "execution_count": 17,
     "metadata": {},
     "output_type": "execute_result"
    }
   ],
   "source": [
    "# BULK INSERT\n",
    "\n",
    "# insert_many\n",
    "# returns a list of object id's\n",
    "\n",
    "new_posts = [{\"author\": \"test_data\",\n",
    "               \"text\": \"Another post!\",\n",
    "               \"tags\": [\"bulk\", \"insert\"],\n",
    "               \"date\": datetime.datetime(2009, 11, 12, 11, 14)},\n",
    "             {\"author\": \"Eliot\",\n",
    "               \"title\": \"MongoDB is fun\",\n",
    "               \"text\": \"and pretty easy too!\",\n",
    "               \"date\": datetime.datetime(2009, 11, 10, 10, 45)}]\n",
    "\n",
    "result = collection.insert_many(new_posts)\n",
    "result.inserted_ids"
   ]
  },
  {
   "cell_type": "code",
   "execution_count": 18,
   "metadata": {},
   "outputs": [
    {
     "name": "stdout",
     "output_type": "stream",
     "text": [
      "%%%%%%%%%%%%%%%%%%%%%%%%%%%%%%%%%%%%%%%%%%%%\n",
      "{'_id': ObjectId('5bbd9ff7053b0633fcd61bcb'),\n",
      " 'author': 'Mike1',\n",
      " 'date': datetime.datetime(2018, 10, 10, 6, 45, 11, 334000),\n",
      " 'tags': ['mongodb', 'python', 'pymongo'],\n",
      " 'text': 'My first blog post!'}\n",
      "\n",
      " Mike1 \n",
      "\n"
     ]
    }
   ],
   "source": [
    "# QUERYING more than one document\n",
    "\n",
    "# find()\n",
    "# returns a cursor using which we can interate through all the documents\n",
    "import pprint\n",
    "cursor = collection.find({'author':'Mike1'})\n",
    "\n",
    "for entry in cursor:\n",
    "    print(\"%%%%%%%%%%%%%%%%%%%%%%%%%%%%%%%%%%%%%%%%%%%%\")\n",
    "    pprint.pprint(entry)\n",
    "    print(\"\\n\",entry['author'],\"\\n\")\n",
    "\n"
   ]
  },
  {
   "cell_type": "code",
   "execution_count": 19,
   "metadata": {},
   "outputs": [
    {
     "name": "stdout",
     "output_type": "stream",
     "text": [
      "5\n"
     ]
    },
    {
     "data": {
      "text/plain": [
       "0"
      ]
     },
     "execution_count": 19,
     "metadata": {},
     "output_type": "execute_result"
    }
   ],
   "source": [
    "#Count the number of rows in a collection\n",
    "\n",
    "num_row = collection.count()\n",
    "print(num_row)\n",
    "\n",
    "collection.find({\"author\": \"Mike\"}).count()"
   ]
  },
  {
   "cell_type": "code",
   "execution_count": 22,
   "metadata": {},
   "outputs": [
    {
     "name": "stdout",
     "output_type": "stream",
     "text": [
      "5bbda155053b0633fcd61bce\n"
     ]
    }
   ],
   "source": [
    "# Update document \n",
    "\n",
    "from bson.objectid import ObjectId\n",
    "\n",
    "print (id_ret)\n",
    "try:\n",
    "    \n",
    "    collection.update_one(\n",
    "                {\"_id\": id_ret},\n",
    "                {\n",
    "                    \"$set\": {\n",
    "                        \"test\":\"Ritu\"\n",
    "                    }\n",
    "                }\n",
    "            )\n",
    "except Exception as e:\n",
    "    print(str(e))"
   ]
  },
  {
   "cell_type": "code",
   "execution_count": null,
   "metadata": {},
   "outputs": [],
   "source": [
    "# Delete Document \n",
    "\n",
    "# delete_one() or delete_many()\n",
    "\n",
    "result = collection.delete_many({\"author\": \"Mike1\"})\n",
    "\n",
    "# To see the number of documents deleted :\n",
    "print(result.deleted_count)\n",
    "\n",
    "# Remove all documents using delete_many()\n",
    "result= collection.delete_many({})\n",
    "\n",
    "# Delete all documents using collection.remove()\n",
    "result = collection.remove() \n",
    "\n",
    "# To Drop a Collection\n",
    "db.my_collection.drop()"
   ]
  },
  {
   "cell_type": "code",
   "execution_count": null,
   "metadata": {},
   "outputs": [],
   "source": []
  }
 ],
 "metadata": {
  "kernelspec": {
   "display_name": "Python 3",
   "language": "python",
   "name": "python3"
  },
  "language_info": {
   "codemirror_mode": {
    "name": "ipython",
    "version": 3
   },
   "file_extension": ".py",
   "mimetype": "text/x-python",
   "name": "python",
   "nbconvert_exporter": "python",
   "pygments_lexer": "ipython3",
   "version": "3.6.1"
  }
 },
 "nbformat": 4,
 "nbformat_minor": 2
}
