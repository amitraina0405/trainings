{
 "cells": [
  {
   "cell_type": "code",
   "execution_count": 14,
   "metadata": {},
   "outputs": [
    {
     "name": "stdout",
     "output_type": "stream",
     "text": [
      "<property object at 0x00000000053A4C78>\n",
      "<built-in method getter of property object at 0x00000000053A4C78>\n",
      "<built-in method setter of property object at 0x00000000053A4C78>\n",
      "<built-in method deleter of property object at 0x00000000053A4C78>\n"
     ]
    }
   ],
   "source": [
    "print(property())\n",
    "\n",
    "print(property().getter)\n",
    "\n",
    "print(property().setter)\n",
    "\n",
    "print(property().deleter)"
   ]
  },
  {
   "cell_type": "code",
   "execution_count": 7,
   "metadata": {},
   "outputs": [
    {
     "name": "stdout",
     "output_type": "stream",
     "text": [
      "0\n",
      "37\n",
      "98.60000000000001\n"
     ]
    },
    {
     "data": {
      "text/plain": [
       "{'temperature': 37, 'test': 1}"
      ]
     },
     "execution_count": 7,
     "metadata": {},
     "output_type": "execute_result"
    }
   ],
   "source": [
    "# A class to set temperature and convert it to fahrenheit\n",
    "\n",
    "class Celsius:\n",
    "    \n",
    "    temperature = None\n",
    "    \n",
    "    def __init__(self, temperature = 0):\n",
    "        self.temperature = temperature\n",
    "#         self.test = 1\n",
    "\n",
    "    def to_fahrenheit(self):\n",
    "        return (self.temperature * 1.8) + 32\n",
    "    \n",
    "c = Celsius()\n",
    "print(c.temperature)\n",
    "\n",
    "# set temperature\n",
    "c.temperature = 37\n",
    "\n",
    "# get temperature\n",
    "print(c.temperature)\n",
    "\n",
    "# get degrees Fahrenheit\n",
    "fah_temp = c.to_fahrenheit()\n",
    "print(fah_temp)\n",
    "\n",
    "# All the class data variables are internally stored in __dict__ special function\n",
    "c.__dict__"
   ]
  },
  {
   "cell_type": "code",
   "execution_count": 5,
   "metadata": {},
   "outputs": [
    {
     "name": "stdout",
     "output_type": "stream",
     "text": [
      "Temperature below -273 is not allowed\n",
      "37\n",
      "10\n",
      "Temperature below -273 is not allowed\n",
      "-508.0\n"
     ]
    }
   ],
   "source": [
    "# We need to restrict setting the temperature if its less than -273\n",
    "# Issue with this is ::: \n",
    "\"\"\"c.temperature to c.get_temperature() and all assignments like c.temperature = val to c.set_temperature(val).\"\"\"\n",
    "\n",
    "class Celsius:\n",
    "    def __init__(self, temperature = 0):\n",
    "        self.set_temperature(temperature)\n",
    "\n",
    "    def to_fahrenheit(self):\n",
    "        return (self.get_temperature() * 1.8) + 32\n",
    "\n",
    "    # new update\n",
    "    def get_temperature(self):\n",
    "        return self._temperature\n",
    "\n",
    "    def set_temperature(self, value):\n",
    "        if value < -273:\n",
    "            print(ValueError(\"Temperature below -273 is not allowed\"))\n",
    "        self._temperature = value\n",
    "        \n",
    "c = Celsius(-277)\n",
    "\n",
    "c = Celsius(37)\n",
    "print(c.get_temperature())\n",
    "c.set_temperature(10)\n",
    "print(c.get_temperature())\n",
    "c.set_temperature(-300)\n",
    "\n",
    "converted_temp = c.to_fahrenheit()\n",
    "print(converted_temp)"
   ]
  },
  {
   "cell_type": "code",
   "execution_count": 15,
   "metadata": {
    "scrolled": true
   },
   "outputs": [
    {
     "name": "stdout",
     "output_type": "stream",
     "text": [
      "INIT\n",
      "Setting value\n",
      "Setting value\n",
      "Getting value\n",
      "37\n",
      "Getting value\n",
      "98.60000000000001\n"
     ]
    }
   ],
   "source": [
    "class Celsius:\n",
    "    def __init__(self, temperature = 0):\n",
    "        print(\"INIT\")\n",
    "        self.temperature = temperature\n",
    "\n",
    "    def to_fahrenheit(self):\n",
    "        return (self.temperature * 1.8) + 32\n",
    "\n",
    "    def g_temperature(self):\n",
    "        print(\"Getting value\")\n",
    "        return self._temperature\n",
    "\n",
    "    def s_temperature(self, value):\n",
    "        if value < -273:\n",
    "            raise ValueError(\"Temperature below -273 is not possible\")\n",
    "        print(\"Setting value\")\n",
    "        self._temperature = value\n",
    "\n",
    "    # Property Declared\n",
    "    # property(fget=None, fset=None, fdel=None, doc=None)\n",
    "    temperature = property(g_temperature,s_temperature)\n",
    "    \n",
    "c = Celsius()\n",
    "c.temperature = 37\n",
    "print(c.temperature)\n",
    "print(c.to_fahrenheit())"
   ]
  },
  {
   "cell_type": "code",
   "execution_count": null,
   "metadata": {},
   "outputs": [],
   "source": [
    "# This statement is equivalent to the below set of statements\n",
    "temperature = property(get_temperature,set_temperature)\n",
    "\n",
    "# make empty property\n",
    "temperature = property()\n",
    "# assign fget\n",
    "temperature = temperature.getter(get_temperature)\n",
    "# assign fset\n",
    "temperature = temperature.setter(set_temperature)"
   ]
  },
  {
   "cell_type": "code",
   "execution_count": 19,
   "metadata": {},
   "outputs": [
    {
     "name": "stdout",
     "output_type": "stream",
     "text": [
      "Setting value\n",
      "Getting value\n",
      "37\n",
      "Getting value\n",
      "delete class\n"
     ]
    }
   ],
   "source": [
    "class Celsius:\n",
    "    def __init__(self, temperature = 0):\n",
    "        self._temperature = temperature\n",
    "\n",
    "    def to_fahrenheit(self):\n",
    "        return (self.temperature * 1.8) + 32\n",
    "\n",
    "    @property\n",
    "    def temperature(self):\n",
    "        print(\"Getting value\")\n",
    "        return self._temperature\n",
    "\n",
    "    @temperature.setter\n",
    "    def temperature(self, value):\n",
    "        if value < -273:\n",
    "            raise ValueError(\"Temperature below -273 is not possible\")\n",
    "        print(\"Setting value\")\n",
    "        self._temperature = value\n",
    "\n",
    "    @temperature.deleter\n",
    "    def temperature(self):\n",
    "        print (\"delete class\")\n",
    "\n",
    "    \n",
    "c = Celsius()\n",
    "c.temperature = 37\n",
    "print(c.temperature)\n",
    "c.to_fahrenheit()\n",
    "\n",
    "del c.temperature"
   ]
  },
  {
   "cell_type": "code",
   "execution_count": null,
   "metadata": {},
   "outputs": [],
   "source": []
  },
  {
   "cell_type": "code",
   "execution_count": null,
   "metadata": {},
   "outputs": [],
   "source": []
  }
 ],
 "metadata": {
  "kernelspec": {
   "display_name": "Python 3",
   "language": "python",
   "name": "python3"
  },
  "language_info": {
   "codemirror_mode": {
    "name": "ipython",
    "version": 3
   },
   "file_extension": ".py",
   "mimetype": "text/x-python",
   "name": "python",
   "nbconvert_exporter": "python",
   "pygments_lexer": "ipython3",
   "version": "3.6.1"
  }
 },
 "nbformat": 4,
 "nbformat_minor": 2
}
