{
 "cells": [
  {
   "cell_type": "code",
   "execution_count": 38,
   "metadata": {},
   "outputs": [
    {
     "name": "stdout",
     "output_type": "stream",
     "text": [
      "1\n"
     ]
    }
   ],
   "source": [
    " # A generator function that yields 1 \n",
    "\n",
    "def simpleGeneratorFun():\n",
    "    yield 1\n",
    "#     return 1\n",
    "\n",
    "value = simpleGeneratorFun()\n",
    "print(value)"
   ]
  },
  {
   "cell_type": "code",
   "execution_count": 41,
   "metadata": {},
   "outputs": [
    {
     "ename": "SyntaxError",
     "evalue": "invalid syntax (<ipython-input-41-52f62bab9d6f>, line 1)",
     "output_type": "error",
     "traceback": [
      "\u001b[1;36m  File \u001b[1;32m\"<ipython-input-41-52f62bab9d6f>\"\u001b[1;36m, line \u001b[1;32m1\u001b[0m\n\u001b[1;33m    - Generator function contains one or more yield statements.\u001b[0m\n\u001b[1;37m                       ^\u001b[0m\n\u001b[1;31mSyntaxError\u001b[0m\u001b[1;31m:\u001b[0m invalid syntax\n"
     ]
    }
   ],
   "source": [
    "- Generator function contains one or more yield statements.\n",
    "\n",
    "- When called, it returns an object (iterator) but does not start execution immediately.\n",
    "\n",
    "- Methods like __iter__() and __next__() are implemented automatically. So we can iterate through the items using next().\n",
    "\n",
    "- Once the function yields, the function is paused and the control is transferred to the caller.\n",
    "\n",
    "- Local variables and their states are remembered between successive calls.\n",
    "\n",
    "- Finally, when the function terminates, StopIteration is raised automatically on further calls."
   ]
  },
  {
   "cell_type": "code",
   "execution_count": 43,
   "metadata": {},
   "outputs": [
    {
     "name": "stdout",
     "output_type": "stream",
     "text": [
      "<generator object simpleGeneratorFun at 0x00000163EB397348>\n"
     ]
    },
    {
     "data": {
      "text/plain": [
       "1"
      ]
     },
     "execution_count": 43,
     "metadata": {},
     "output_type": "execute_result"
    }
   ],
   "source": [
    " # A generator function that yields 1 \n",
    "\n",
    "def simpleGeneratorFun():\n",
    "    yield 1\n",
    "#     return 1\n",
    "\n",
    "value = simpleGeneratorFun()\n",
    "print(value)\n",
    "\n",
    "next(value)"
   ]
  },
  {
   "cell_type": "code",
   "execution_count": 47,
   "metadata": {},
   "outputs": [
    {
     "name": "stdout",
     "output_type": "stream",
     "text": [
      "1\n"
     ]
    }
   ],
   "source": [
    "# A Simple Python program to demonstrate working\n",
    "# of yield\n",
    " \n",
    "# A generator function that yields 1 for first time,\n",
    "# 2 second time and 3 third time\n",
    "def simpleGeneratorFun():\n",
    "    yield 1\n",
    "    yield 2\n",
    "    yield 3\n",
    "    \n",
    "#     for i in range(3):\n",
    "#         print(\"Test: \", i)\n",
    "#         yield i\n",
    " \n",
    "# Driver code to check above generator function\n",
    "\n",
    "gen_obj = simpleGeneratorFun()\n",
    "print(next(gen_obj))\n",
    "print(next(gen_obj))\n",
    "print(next(gen_obj)\n",
    "\n",
    "for value in simpleGeneratorFun(): \n",
    "    print(value)\n",
    "    "
   ]
  },
  {
   "cell_type": "code",
   "execution_count": 49,
   "metadata": {},
   "outputs": [
    {
     "data": {
      "text/plain": [
       "0"
      ]
     },
     "execution_count": 49,
     "metadata": {},
     "output_type": "execute_result"
    }
   ],
   "source": [
    "# A Simple Python program to demonstrate working\n",
    "# of return\n",
    "\n",
    "def simplenormalFun():\n",
    "#     return 1\n",
    "#     return 2\n",
    "#     return 3\n",
    "    \n",
    "    for i in range(3):\n",
    "        return i\n",
    " \n",
    "# Driver code to check above normal function\n",
    "simplenormalFun()\n",
    "\n",
    "# for value in simplenormalFun(): \n",
    "#     print(value)\n",
    "    \n"
   ]
  },
  {
   "cell_type": "code",
   "execution_count": 24,
   "metadata": {},
   "outputs": [
    {
     "name": "stdout",
     "output_type": "stream",
     "text": [
      "1 2 3\n"
     ]
    }
   ],
   "source": [
    "def simple_function():\n",
    "    value_1 = 1\n",
    "    value_2 = 2\n",
    "    value_3 = 3\n",
    "    \n",
    "    return (value_1,value_2,value_3)\n",
    "\n",
    "val , val2, val3 = simple_function()\n",
    "print(val , val2, val3)"
   ]
  },
  {
   "cell_type": "code",
   "execution_count": 31,
   "metadata": {},
   "outputs": [
    {
     "name": "stdout",
     "output_type": "stream",
     "text": [
      "Length: 5\n",
      "h\n",
      "e\n",
      "l\n",
      "l\n",
      "o\n"
     ]
    }
   ],
   "source": [
    "# Generators with loop\n",
    "\n",
    "def rev_str(my_str):\n",
    "    length = len(my_str)\n",
    "    print(\"Length:\", length)\n",
    "    for i in range(length):\n",
    "#         print(\"i: \", i)\n",
    "        yield my_str[i]\n",
    "\n",
    "str = \"hello\"\n",
    "for char in rev_str(str):\n",
    "    print(char)"
   ]
  },
  {
   "cell_type": "code",
   "execution_count": 53,
   "metadata": {},
   "outputs": [
    {
     "name": "stdout",
     "output_type": "stream",
     "text": [
      "<generator object <genexpr> at 0x00000163EB3974C8>\n",
      "[0, 1, 2, 3, 4, 5, 6, 7, 8, 9]\n"
     ]
    }
   ],
   "source": [
    "lst = (x for x in range(10))\n",
    "\n",
    "print(lst)\n",
    "\n",
    "print(list(lst))"
   ]
  },
  {
   "cell_type": "code",
   "execution_count": 30,
   "metadata": {},
   "outputs": [
    {
     "name": "stdout",
     "output_type": "stream",
     "text": [
      "Total 23\n"
     ]
    }
   ],
   "source": [
    "#Generator Expression\n",
    " # For Attendees \n",
    "total = sum(i for i in range(10) if i%3 == 0 or i%5 == 0)\n",
    "\n",
    "print(\"Total {}\".format(total))"
   ]
  },
  {
   "cell_type": "code",
   "execution_count": 35,
   "metadata": {},
   "outputs": [
    {
     "name": "stdout",
     "output_type": "stream",
     "text": [
      "[1, 9, 36, 100]\n",
      "<generator object <genexpr> at 0x00000163EB3970C8>\n",
      "[1, 9, 36, 100]\n"
     ]
    }
   ],
   "source": [
    "# Initialize the list\n",
    "my_list = [1, 3, 6, 10]\n",
    "\n",
    "# square each term using list comprehension\n",
    "# Output: [1, 9, 36, 100]\n",
    "res_list = [x**2 for x in my_list]\n",
    "\n",
    "print(res_list)\n",
    "\n",
    "# same thing can be done using generator expression\n",
    "# Output: <generator object <genexpr> at 0x0000000002EBDAF8>\n",
    "res_gen = (x**2 for x in my_list)\n",
    "print(res_gen)\n",
    "print(list(res_gen))"
   ]
  },
  {
   "cell_type": "code",
   "execution_count": null,
   "metadata": {},
   "outputs": [],
   "source": []
  },
  {
   "cell_type": "code",
   "execution_count": 7,
   "metadata": {},
   "outputs": [
    {
     "name": "stdout",
     "output_type": "stream",
     "text": [
      "[2, 3, 5, 7, 11, 13, 17, 19, 23, 29, 31, 37, 41, 43, 47, 53, 59, 61, 67, 71, 73, 79, 83, 89, 97]\n"
     ]
    }
   ],
   "source": [
    "# For Attendees\n",
    "\n",
    "def check_prime(number):\n",
    "    for divisor in range(2, int(number ** 0.5) + 1):\n",
    "        # print(\"Divisor {}\".format(divisor))\n",
    "        if number % divisor == 0:\n",
    "            return False\n",
    "    return True\n",
    "# print(2%2)\n",
    "\n",
    "primes = (i for i in range(2, 100) if check_prime(i))\n",
    "\n",
    "print(list(primes))\n",
    "\n",
    "# print(len(list(primes)))\n",
    "# for x in list(primes):\n",
    "#     print(x)"
   ]
  },
  {
   "cell_type": "code",
   "execution_count": null,
   "metadata": {},
   "outputs": [],
   "source": []
  }
 ],
 "metadata": {
  "kernelspec": {
   "display_name": "Python 3",
   "language": "python",
   "name": "python3"
  },
  "language_info": {
   "codemirror_mode": {
    "name": "ipython",
    "version": 3
   },
   "file_extension": ".py",
   "mimetype": "text/x-python",
   "name": "python",
   "nbconvert_exporter": "python",
   "pygments_lexer": "ipython3",
   "version": "3.7.5"
  }
 },
 "nbformat": 4,
 "nbformat_minor": 1
}
