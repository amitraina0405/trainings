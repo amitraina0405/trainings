{
 "cells": [
  {
   "cell_type": "code",
   "execution_count": null,
   "metadata": {},
   "outputs": [],
   "source": [
    "# Exercices in Dic comprehension\n",
    "# Traversing through a list : For loop\n",
    "h_num = []\n",
    "\n",
    "for num in range(10):\n",
    "    h_num.append(num)\n",
    "\n",
    "print(h_num)"
   ]
  },
  {
   "cell_type": "code",
   "execution_count": null,
   "metadata": {},
   "outputs": [],
   "source": [
    "# Traversing through a list : List Comprehesion\n",
    "\n",
    "lst = [x for x in range(10)]\n",
    "\n",
    "print(lst)"
   ]
  },
  {
   "cell_type": "code",
   "execution_count": null,
   "metadata": {},
   "outputs": [],
   "source": [
    "# Square of numbers\n",
    "# Syntax : [expression for item in list]\n",
    "\n",
    "# lst = [x*x for x in range(10)]\n",
    "\n",
    "val_lst = [1,2,3,4,5,6]\n",
    "lst = [x*x for x in val_lst]\n",
    "\n",
    "print(lst)"
   ]
  },
  {
   "cell_type": "code",
   "execution_count": 5,
   "metadata": {},
   "outputs": [
    {
     "name": "stdout",
     "output_type": "stream",
     "text": [
      "[0, 2, 4, 6, 8, 10, 12, 14, 16, 18]\n"
     ]
    }
   ],
   "source": [
    "# Conditional statements in List Comprehension\n",
    "\n",
    "number_list =  [x for x in range(20) if x % 2 == 0]\n",
    "print(number_list)"
   ]
  },
  {
   "cell_type": "code",
   "execution_count": null,
   "metadata": {},
   "outputs": [],
   "source": [
    "outputlist = []\n",
    "if x % 2 == 0:\n",
    "    for x in range(20):\n",
    "        outputlist.append(x)"
   ]
  },
  {
   "cell_type": "code",
   "execution_count": null,
   "metadata": {},
   "outputs": [],
   "source": [
    "# Nested if \n",
    "\n",
    "# num_list = [y for y in range(100) if y % 2 == 0 if y % 5 == 0]\n",
    "\n",
    "num_list = [y for y in range(100) if y % 2 == 0 if y % 5 == 0]\n",
    "print(num_list)\n",
    "\n",
    "num_list = [y for y in range(100) if y % 2 == 0]\n",
    "print(num_list)\n"
   ]
  },
  {
   "cell_type": "code",
   "execution_count": 6,
   "metadata": {},
   "outputs": [
    {
     "name": "stdout",
     "output_type": "stream",
     "text": [
      "[0, 'Odd', 4, 'Odd', 16, 'Odd', 36, 'Odd', 64, 'Odd']\n"
     ]
    }
   ],
   "source": [
    "\n",
    "# Nested if else \n",
    "# Case of Ternary Operator\n",
    "\n",
    "obj = [i*i if i%2==0 else \"Odd\" for i in range(10)]\n",
    "print(obj)\n"
   ]
  },
  {
   "cell_type": "code",
   "execution_count": null,
   "metadata": {},
   "outputs": [],
   "source": [
    "# For Attendees - To explore\n",
    "\n",
    "matrix = [[1, 2],[3,4],[5,6],[7,8]]\n",
    "transpose = [[row[i] for row in matrix] for i in range(2)]\n",
    "print (transpose)"
   ]
  },
  {
   "cell_type": "code",
   "execution_count": null,
   "metadata": {},
   "outputs": [],
   "source": []
  },
  {
   "cell_type": "code",
   "execution_count": null,
   "metadata": {
    "scrolled": true
   },
   "outputs": [],
   "source": [
    "# Effenciency of list comprehension\n",
    "# https://web.archive.org/web/20190319205826/http://blog.cdleary.com/2010/04/efficiency-of-list-comprehensions/\n",
    "\n",
    "#  Instead, in a comprehension, a specialized LIST_APPEND bytecode is generated for a \n",
    "#  fast append onto the result list (comprehension program, bytecode 33).\n",
    "\n",
    "import dis\n",
    "import inspect\n",
    "import timeit\n",
    "\n",
    "\n",
    "programs = dict(\n",
    "    loop=\"\"\"\n",
    "result = []\n",
    "for i in range(20):\n",
    "    result.append(i * 2)\n",
    "\"\"\",\n",
    "    comprehension='result = [i * 2 for i in range(20)]',\n",
    ")\n",
    "\n",
    "\n",
    "for name, text in programs.items():\n",
    "#    timeit — Measure execution time of small code snippets \n",
    "    print (name, timeit.Timer(stmt=text).timeit())\n",
    "    code = compile(text, '<string>', 'exec')\n",
    "    dis.disassemble(code)"
   ]
  },
  {
   "cell_type": "code",
   "execution_count": null,
   "metadata": {},
   "outputs": [],
   "source": [
    "import time\n",
    "\n",
    "a = [1, 2, 3, 4, 5]\n",
    "\n",
    "start = time.time()\n",
    "\n",
    "for i in range(0, 500000):\n",
    "\n",
    "    a = [num if num % 2 == 1 else num * 1 for num in a]\n",
    "\n",
    "end = time.time()\n",
    "\n",
    "print(\"\")\n",
    "print(end - start)\n",
    "\n",
    "start = time.time()\n",
    "\n",
    "for i in range(0, 500000):\n",
    "\n",
    "    for j in range(len(a)):\n",
    "\n",
    "        if a[j] % 2 == 1:\n",
    "\n",
    "            a[j] = a[j]\n",
    "\n",
    "        else:\n",
    "\n",
    "            a[j] = a[j] * 1\n",
    "\n",
    "end = time.time()\n",
    "\n",
    "print(end - start)"
   ]
  },
  {
   "cell_type": "code",
   "execution_count": null,
   "metadata": {},
   "outputs": [],
   "source": []
  },
  {
   "cell_type": "code",
   "execution_count": null,
   "metadata": {},
   "outputs": [],
   "source": []
  }
 ],
 "metadata": {
  "kernelspec": {
   "display_name": "Python 3",
   "language": "python",
   "name": "python3"
  },
  "language_info": {
   "codemirror_mode": {
    "name": "ipython",
    "version": 3
   },
   "file_extension": ".py",
   "mimetype": "text/x-python",
   "name": "python",
   "nbconvert_exporter": "python",
   "pygments_lexer": "ipython3",
   "version": "3.7.5"
  }
 },
 "nbformat": 4,
 "nbformat_minor": 1
}
