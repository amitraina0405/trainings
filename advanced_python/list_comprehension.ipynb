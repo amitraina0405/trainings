{
 "cells": [
  {
   "cell_type": "code",
   "execution_count": 7,
   "metadata": {},
   "outputs": [
    {
     "name": "stdout",
     "output_type": "stream",
     "text": [
      "[0, 1, 2, 3, 4, 5, 6, 7, 8, 9]\n"
     ]
    }
   ],
   "source": [
    "# Exercices in Dic comprehension\n",
    "# Traversing through a list : For loop\n",
    "h_num = []\n",
    "\n",
    "for num in range(10):\n",
    "    h_num.append(num)\n",
    "\n",
    "print(h_num)"
   ]
  },
  {
   "cell_type": "code",
   "execution_count": 2,
   "metadata": {},
   "outputs": [
    {
     "name": "stdout",
     "output_type": "stream",
     "text": [
      "[0, 1, 2, 3, 4, 5, 6, 7, 8, 9]\n"
     ]
    }
   ],
   "source": [
    "# Traversing through a list : List Comprehesion\n",
    "\n",
    "lst = [x for x in range(10)]\n",
    "\n",
    "print(lst)"
   ]
  },
  {
   "cell_type": "code",
   "execution_count": 4,
   "metadata": {},
   "outputs": [
    {
     "name": "stdout",
     "output_type": "stream",
     "text": [
      "[1, 4, 9, 16, 25, 36]\n"
     ]
    }
   ],
   "source": [
    "# Square of numbers\n",
    "# Syntax : [expression for item in list]\n",
    "\n",
    "# lst = [x*x for x in range(10)]\n",
    "\n",
    "val_lst = [1,2,3,4,5,6]\n",
    "lst = [x*x for x in val_lst]\n",
    "\n",
    "print(lst)"
   ]
  },
  {
   "cell_type": "code",
   "execution_count": 8,
   "metadata": {},
   "outputs": [
    {
     "name": "stdout",
     "output_type": "stream",
     "text": [
      "[0, 2, 4, 6, 8, 10, 12, 14, 16, 18]\n"
     ]
    }
   ],
   "source": [
    "# Conditional statements in List Comprehension\n",
    "\n",
    "number_list = [ x for x in range(20) if x % 2 == 0]\n",
    "print(number_list)"
   ]
  },
  {
   "cell_type": "code",
   "execution_count": 11,
   "metadata": {},
   "outputs": [
    {
     "name": "stdout",
     "output_type": "stream",
     "text": [
      "[0, 2, 4, 5, 6, 8, 10, 12, 14, 15, 16, 18, 20, 22, 24, 25, 26, 28, 30, 32, 34, 35, 36, 38, 40, 42, 44, 45, 46, 48, 50, 52, 54, 55, 56, 58, 60, 62, 64, 65, 66, 68, 70, 72, 74, 75, 76, 78, 80, 82, 84, 85, 86, 88, 90, 92, 94, 95, 96, 98]\n",
      "[0, 2, 4, 6, 8, 10, 12, 14, 16, 18, 20, 22, 24, 26, 28, 30, 32, 34, 36, 38, 40, 42, 44, 46, 48, 50, 52, 54, 56, 58, 60, 62, 64, 66, 68, 70, 72, 74, 76, 78, 80, 82, 84, 86, 88, 90, 92, 94, 96, 98]\n"
     ]
    }
   ],
   "source": [
    "# Nested if \n",
    "\n",
    "num_list = [y for y in range(100) if y % 2 == 0 if y % 5 == 0]\n",
    "print(num_list)\n",
    "\n",
    "num_list = [y for y in range(100) if y % 2 == 0 ]\n",
    "print(num_list)"
   ]
  },
  {
   "cell_type": "code",
   "execution_count": 8,
   "metadata": {},
   "outputs": [
    {
     "name": "stdout",
     "output_type": "stream",
     "text": [
      "['Even', 'Odd', 'Even', 'Odd', 'Even', 'Odd', 'Even', 'Odd', 'Even', 'Odd']\n"
     ]
    }
   ],
   "source": [
    "# Nested if else \n",
    "\n",
    "obj = [\"Even\" if i%2==0 else \"Odd\" for i in range(10)]\n",
    "print(obj)"
   ]
  },
  {
   "cell_type": "code",
   "execution_count": 9,
   "metadata": {},
   "outputs": [
    {
     "name": "stdout",
     "output_type": "stream",
     "text": [
      "[[1, 3, 5, 7], [2, 4, 6, 8]]\n"
     ]
    }
   ],
   "source": [
    "# For Attendees - To explore\n",
    "\n",
    "matrix = [[1, 2],[3,4],[5,6],[7,8]]\n",
    "transpose = [[row[i] for row in matrix] for i in range(2)]\n",
    "print (transpose)"
   ]
  },
  {
   "cell_type": "code",
   "execution_count": 14,
   "metadata": {},
   "outputs": [],
   "source": []
  },
  {
   "cell_type": "code",
   "execution_count": 23,
   "metadata": {},
   "outputs": [
    {
     "name": "stdout",
     "output_type": "stream",
     "text": [
      "loop 4.334357682033442\n",
      "  2           0 BUILD_LIST               0\n",
      "              2 STORE_NAME               0 (result)\n",
      "\n",
      "  3           4 SETUP_LOOP              30 (to 36)\n",
      "              6 LOAD_NAME                1 (range)\n",
      "              8 LOAD_CONST               0 (20)\n",
      "             10 CALL_FUNCTION            1\n",
      "             12 GET_ITER\n",
      "        >>   14 FOR_ITER                18 (to 34)\n",
      "             16 STORE_NAME               2 (i)\n",
      "\n",
      "  4          18 LOAD_NAME                0 (result)\n",
      "             20 LOAD_ATTR                3 (append)\n",
      "             22 LOAD_NAME                2 (i)\n",
      "             24 LOAD_CONST               1 (2)\n",
      "             26 BINARY_MULTIPLY\n",
      "             28 CALL_FUNCTION            1\n",
      "             30 POP_TOP\n",
      "             32 JUMP_ABSOLUTE           14\n",
      "        >>   34 POP_BLOCK\n",
      "        >>   36 LOAD_CONST               2 (None)\n",
      "             38 RETURN_VALUE\n",
      "comprehension 2.670568247878691\n",
      "  1           0 LOAD_CONST               0 (<code object <listcomp> at 0x0000000004ED66F0, file \"<string>\", line 1>)\n",
      "              2 LOAD_CONST               1 ('<listcomp>')\n",
      "              4 MAKE_FUNCTION            0\n",
      "              6 LOAD_NAME                0 (range)\n",
      "              8 LOAD_CONST               2 (20)\n",
      "             10 CALL_FUNCTION            1\n",
      "             12 GET_ITER\n",
      "             14 CALL_FUNCTION            1\n",
      "             16 STORE_NAME               1 (result)\n",
      "             18 LOAD_CONST               3 (None)\n",
      "             20 RETURN_VALUE\n"
     ]
    }
   ],
   "source": [
    "# Effenciency of list comprehension\n",
    "# http://blog.cdleary.com/2010/04/efficiency-of-list-comprehensions/\n",
    "\n",
    "#  Instead, in a comprehension, a specialized LIST_APPEND bytecode is generated for a fast append onto the result list (comprehension program, bytecode 33).\n",
    "\n",
    "import dis\n",
    "import inspect\n",
    "import timeit\n",
    "\n",
    "\n",
    "programs = dict(\n",
    "    loop=\"\"\"\n",
    "result = []\n",
    "for i in range(20):\n",
    "    result.append(i * 2)\n",
    "\"\"\",\n",
    "    comprehension='result = [i * 2 for i in range(20)]',\n",
    ")\n",
    "\n",
    "\n",
    "for name, text in programs.items():\n",
    "#    timeit — Measure execution time of small code snippets \n",
    "    print (name, timeit.Timer(stmt=text).timeit())\n",
    "    code = compile(text, '<string>', 'exec')\n",
    "    dis.disassemble(code)"
   ]
  },
  {
   "cell_type": "code",
   "execution_count": null,
   "metadata": {},
   "outputs": [],
   "source": []
  }
 ],
 "metadata": {
  "kernelspec": {
   "display_name": "Python 3",
   "language": "python",
   "name": "python3"
  },
  "language_info": {
   "codemirror_mode": {
    "name": "ipython",
    "version": 3
   },
   "file_extension": ".py",
   "mimetype": "text/x-python",
   "name": "python",
   "nbconvert_exporter": "python",
   "pygments_lexer": "ipython3",
   "version": "3.6.1"
  }
 },
 "nbformat": 4,
 "nbformat_minor": 1
}
