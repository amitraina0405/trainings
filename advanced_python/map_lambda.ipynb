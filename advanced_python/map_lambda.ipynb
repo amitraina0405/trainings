{
 "cells": [
  {
   "cell_type": "code",
   "execution_count": 3,
   "metadata": {},
   "outputs": [
    {
     "name": "stdout",
     "output_type": "stream",
     "text": [
      "<map object at 0x000002508D350A08>\n",
      "[2, 4, 6, 8]\n"
     ]
    }
   ],
   "source": [
    "# map function\n",
    "\n",
    "def multiply_new(x):\n",
    "       return x * 2\n",
    "    \n",
    "result = map(multiply_new, [1, 2, 3, 4])  \n",
    "\n",
    "print(result)\n",
    "print(list(result))"
   ]
  },
  {
   "cell_type": "code",
   "execution_count": 1,
   "metadata": {},
   "outputs": [
    {
     "name": "stdout",
     "output_type": "stream",
     "text": [
      "6\n"
     ]
    }
   ],
   "source": [
    "# Lambda Function\n",
    "\n",
    "multiply_new = lambda x, y : x * y \n",
    "print(multiply_new(2, 3) )"
   ]
  },
  {
   "cell_type": "code",
   "execution_count": 5,
   "metadata": {},
   "outputs": [
    {
     "name": "stdout",
     "output_type": "stream",
     "text": [
      "<map object at 0x00000000050ECDD8>\n",
      "[2, 4, 6, 8]\n"
     ]
    }
   ],
   "source": [
    "# map and lambda function\n",
    "\n",
    "#Output [2, 4, 6, 8]\n",
    "result = map(lambda x : x*2, [1, 2, 3, 4]) \n",
    "\n",
    "print(result)\n",
    "print(list(result))"
   ]
  },
  {
   "cell_type": "code",
   "execution_count": 7,
   "metadata": {},
   "outputs": [
    {
     "name": "stdout",
     "output_type": "stream",
     "text": [
      "['python', 'java']\n",
      "[100, 80]\n",
      "[True, False]\n"
     ]
    }
   ],
   "source": [
    "# For Attendees\n",
    "\n",
    "# Iterating over a dictionary using map and lambda\n",
    "\n",
    "dict_a = [{'name': 'python', 'points': 10}, {'name': 'java', 'points': 8}]\n",
    "  \n",
    "result = map(lambda x : x['name'], dict_a) # Output: ['python', 'java']\n",
    "print(list(result))\n",
    "  \n",
    "result = map(lambda x : x['points']*10,  dict_a) # Output: [100, 80]\n",
    "print(list(result))\n",
    "\n",
    "result = map(lambda x : x['name'] == \"python\", dict_a) # Output: [True, False]\n",
    "print(list(result))\n"
   ]
  },
  {
   "cell_type": "code",
   "execution_count": 5,
   "metadata": {},
   "outputs": [
    {
     "name": "stdout",
     "output_type": "stream",
     "text": [
      "[11, 22, 33]\n"
     ]
    }
   ],
   "source": [
    "# Multiple iterables to the map function\n",
    "\n",
    "list_a = [1, 2, 3]\n",
    "list_b = [10, 20, 30, 40]\n",
    "  \n",
    "# Output: [11, 22, 33]\n",
    "result = map(lambda x, y: x + y, list_a, list_b) \n",
    "print(list(result))"
   ]
  },
  {
   "cell_type": "code",
   "execution_count": 2,
   "metadata": {},
   "outputs": [
    {
     "name": "stdout",
     "output_type": "stream",
     "text": [
      "2.44729609999996\n",
      "0.012542999999993754\n",
      "2.4839108000000465\n"
     ]
    }
   ],
   "source": [
    "# https://www.quora.com/Is-a-Python-map-faster-than-a-plain-loop-implementation\n",
    "\n",
    "from timeit import timeit\n",
    "\n",
    "do = lambda i: i+1\n",
    "\n",
    "def _for():\n",
    "  for i in range(1000):\n",
    "    do(i)\n",
    "\n",
    "def _map():\n",
    "  map(do, range(1000))\n",
    "\n",
    "def _list():\n",
    "  [do(i) for i in range(1000)]\n",
    "\n",
    "print(timeit(_for, number=10000))  \n",
    "print(timeit(_map, number=10000)) \n",
    "print(timeit(_list, number=10000)) "
   ]
  },
  {
   "cell_type": "code",
   "execution_count": 20,
   "metadata": {},
   "outputs": [
    {
     "name": "stdout",
     "output_type": "stream",
     "text": [
      "4.485450726512681\n",
      "0.010881843490096799\n",
      "2.9620940666054594\n"
     ]
    }
   ],
   "source": [
    "from timeit import timeit\n",
    "\n",
    "def do(i):\n",
    "    return i*2\n",
    "\n",
    "list_new = []\n",
    "\n",
    "def _for():\n",
    "    for i in range(1000):\n",
    "        list_new.append(do(i))\n",
    "\n",
    "list_new = []\n",
    "\n",
    "\n",
    "def _map():\n",
    "    list_new = map(do, range(1000))\n",
    "    \n",
    "\n",
    "list_new = []\n",
    "def _list():\n",
    "    list_new = [do(i) for i in range(1000)]\n",
    "\n",
    "print(timeit(_for, number=10000))  # 2.5515936921388516\n",
    "print(timeit(_map, number=10000))  # 0.010167432629884843\n",
    "print(timeit(_list, number=10000)) # 3.090125159839033"
   ]
  },
  {
   "cell_type": "code",
   "execution_count": null,
   "metadata": {},
   "outputs": [],
   "source": []
  },
  {
   "cell_type": "code",
   "execution_count": null,
   "metadata": {},
   "outputs": [],
   "source": []
  }
 ],
 "metadata": {
  "kernelspec": {
   "display_name": "Python 3",
   "language": "python",
   "name": "python3"
  },
  "language_info": {
   "codemirror_mode": {
    "name": "ipython",
    "version": 3
   },
   "file_extension": ".py",
   "mimetype": "text/x-python",
   "name": "python",
   "nbconvert_exporter": "python",
   "pygments_lexer": "ipython3",
   "version": "3.7.5"
  }
 },
 "nbformat": 4,
 "nbformat_minor": 2
}
