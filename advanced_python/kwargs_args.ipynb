{
 "cells": [
  {
   "cell_type": "code",
   "execution_count": null,
   "metadata": {},
   "outputs": [],
   "source": [
    "import sys\n",
    "\n",
    "# prints some system-dependent number representing the maximum size most containers can hold.\n",
    "print(sys.maxsize)\n",
    "\n",
    "test = tuple([0] * 100000)\n",
    "\n",
    "print(test)"
   ]
  },
  {
   "cell_type": "code",
   "execution_count": null,
   "metadata": {},
   "outputs": [],
   "source": [
    "def test_var_args(f_arg, *argv):\n",
    "    print(\"first normal arg:\", f_arg)\n",
    "    for arg in argv:\n",
    "        print(\"another arg through *argv :\", arg)\n",
    "\n",
    "test_var_args('xoriant',['python','training','code','test','juno'], ['training','code','test','juno'])"
   ]
  },
  {
   "cell_type": "code",
   "execution_count": null,
   "metadata": {},
   "outputs": [],
   "source": [
    "def testify(arg1, arg2, arg3):\n",
    "\n",
    "    print(\"======== Testify Start ========\")\n",
    "    print(\"arg1:\", arg1)\n",
    "    print(\"arg2:\", arg2)\n",
    "    print(\"arg3:\", arg3)\n",
    "#     print(\"arg4:\", arg4)\n",
    "    print(\"======== Testify End ========\")\n",
    "    \n",
    "def testify_new(*arg):\n",
    "    for val in arg:\n",
    "        print(\"arg:\", val)\n",
    "\n",
    "# with *args\n",
    "args = (\"hey\", 14, \"joey\")\n",
    "testify(*args)\n",
    "testify_new(*args)"
   ]
  },
  {
   "cell_type": "code",
   "execution_count": null,
   "metadata": {},
   "outputs": [],
   "source": [
    "# Example : *args/**kwargs\n",
    "\n",
    "def argument_function(var2 = 0, var_1=0, **kwmyarg):\n",
    "    print(\"Argument and Keyword argument function\")\n",
    "    \n",
    "    print(\"var2\", var2)\n",
    "    print(\"var_1\", var_1)\n",
    "\n",
    "    for key, value in kwmyarg.items():\n",
    "        print(\"{},{}\".format(key, value))\n",
    "\n",
    "kw_my_arg = {'a': 12, 'b': 13}\n",
    "\n",
    "argument_function(var2 = 1,**kw_my_arg)"
   ]
  },
  {
   "cell_type": "code",
   "execution_count": null,
   "metadata": {},
   "outputs": [],
   "source": [
    "# python does not supports method overloading. We may overload the methods but can only use the latest defined method.\n",
    "# However we may use other implementation in python to make the same function work differently i.e. as per the arguments.\n",
    "\n",
    "# Function to take multiple arguments \n",
    "def add(datatype, *args): \n",
    "  \n",
    "    # if datatype is int \n",
    "    # initialize answer as 0 \n",
    "    if datatype =='int': \n",
    "        answer = 0\n",
    "          \n",
    "    # if datatype is str \n",
    "    # initialize answer as '' \n",
    "    if datatype =='str': \n",
    "        answer ='' \n",
    "  \n",
    "    # Traverse through the arguments \n",
    "    for x in args: \n",
    "  \n",
    "        # This will do addition if the  \n",
    "        # arguments are int. Or concatenation  \n",
    "        # if the arguments are str \n",
    "        answer = answer + x \n",
    "  \n",
    "    print(answer) \n",
    "  \n",
    "# Integer \n",
    "add('int', 5, 6) \n",
    "  \n",
    "# String \n",
    "add('str', 'Hi ', 'Geeks') "
   ]
  }
 ],
 "metadata": {
  "kernelspec": {
   "display_name": "Python 3",
   "language": "python",
   "name": "python3"
  },
  "language_info": {
   "codemirror_mode": {
    "name": "ipython",
    "version": 3
   },
   "file_extension": ".py",
   "mimetype": "text/x-python",
   "name": "python",
   "nbconvert_exporter": "python",
   "pygments_lexer": "ipython3",
   "version": "3.7.5"
  }
 },
 "nbformat": 4,
 "nbformat_minor": 2
}
