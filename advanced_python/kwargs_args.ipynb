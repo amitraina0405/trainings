{
 "cells": [
  {
   "cell_type": "code",
   "execution_count": 6,
   "metadata": {},
   "outputs": [
    {
     "name": "stdout",
     "output_type": "stream",
     "text": [
      "first normal arg: xoriant\n",
      "another arg through *argv : python\n",
      "another arg through *argv : training\n",
      "another arg through *argv : code\n",
      "another arg through *argv : test\n",
      "another arg through *argv : juno\n"
     ]
    }
   ],
   "source": [
    "def test_var_args(f_arg, *argv):\n",
    "    print(\"first normal arg:\", f_arg)\n",
    "    for arg in argv:\n",
    "        print(\"another arg through *argv :\", arg)\n",
    "\n",
    "test_var_args('xoriant','python','training','code','test','juno')"
   ]
  },
  {
   "cell_type": "code",
   "execution_count": 8,
   "metadata": {},
   "outputs": [
    {
     "name": "stdout",
     "output_type": "stream",
     "text": [
      "======== Testify Start ========\n",
      "arg1: hey\n",
      "arg2: 14\n",
      "arg3: joey\n",
      "arg3: ritu\n",
      "======== Testify End ========\n",
      "arg: hey\n",
      "arg: 14\n",
      "arg: joey\n",
      "arg: ritu\n"
     ]
    }
   ],
   "source": [
    "def testify(arg1, arg2, arg3):\n",
    "\n",
    "    print(\"======== Testify Start ========\")\n",
    "    print(\"arg1:\", arg1)\n",
    "    print(\"arg2:\", arg2)\n",
    "    print(\"arg3:\", arg3)\n",
    "#     print(\"arg3:\", arg4)\n",
    "    print(\"======== Testify End ========\")\n",
    "    \n",
    "def testify_new(*arg):\n",
    "    for iter in arg:\n",
    "        print(\"arg:\", iter)\n",
    "\n",
    "# with *args\n",
    "args = (\"hey\", 14, \"joey\")\n",
    "testify(*args)\n",
    "testify_new(*args)"
   ]
  },
  {
   "cell_type": "code",
   "execution_count": 9,
   "metadata": {},
   "outputs": [
    {
     "name": "stdout",
     "output_type": "stream",
     "text": [
      "Argument and Keyword argument function\n",
      "a,12\n",
      "b,13\n"
     ]
    }
   ],
   "source": [
    "# Example : *args/**kwargs\n",
    "\n",
    "def argument_function(**kwmyarg):\n",
    "    print(\"Argument and Keyword argument function\")\n",
    "\n",
    "    for key, value in kwmyarg.items():\n",
    "        print(\"{},{}\".format(key, value))\n",
    "\n",
    "kw_my_arg = {'a': 12, 'b': 13}\n",
    "\n",
    "argument_function(**kw_my_arg)"
   ]
  },
  {
   "cell_type": "code",
   "execution_count": null,
   "metadata": {},
   "outputs": [],
   "source": []
  }
 ],
 "metadata": {
  "kernelspec": {
   "display_name": "Python 3",
   "language": "python",
   "name": "python3"
  },
  "language_info": {
   "codemirror_mode": {
    "name": "ipython",
    "version": 3
   },
   "file_extension": ".py",
   "mimetype": "text/x-python",
   "name": "python",
   "nbconvert_exporter": "python",
   "pygments_lexer": "ipython3",
   "version": "3.6.1"
  }
 },
 "nbformat": 4,
 "nbformat_minor": 2
}
