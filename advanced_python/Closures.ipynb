{
 "cells": [
  {
   "cell_type": "code",
   "execution_count": null,
   "metadata": {},
   "outputs": [],
   "source": [
    "# The criteria that must be met to create closure in Python are summarized in the following points.\n",
    "# We must have a nested function (function inside a function).\n",
    "# The nested function must refer to a value defined in the enclosing function.\n",
    "# The enclosing function must return the nested function.\n"
   ]
  },
  {
   "cell_type": "code",
   "execution_count": 5,
   "metadata": {},
   "outputs": [
    {
     "name": "stdout",
     "output_type": "stream",
     "text": [
      "Hey!\n"
     ]
    }
   ],
   "source": [
    "# Example:\n",
    "def outerFunction(text):\n",
    "    text1 = text\n",
    "    def innerFunction():\n",
    "        print(text1)\n",
    "    return innerFunction # Note we are returning function WITHOUT parenthesis\n",
    "\n",
    "if __name__ == '__main__':\n",
    "    myFunction = outerFunction('Hey!')\n",
    "    del outerFunction\n",
    "    myFunction()\n"
   ]
  },
  {
   "cell_type": "code",
   "execution_count": 9,
   "metadata": {},
   "outputs": [
    {
     "name": "stdout",
     "output_type": "stream",
     "text": [
      "Hello\n",
      "Hello\n",
      "test\n",
      "test\n"
     ]
    }
   ],
   "source": [
    "# Nested functions and Non-Local Variables\n",
    "\n",
    "def print_msg(msg):\n",
    "# This is the outer enclosing function\n",
    "    print(msg)\n",
    "\n",
    "    def printer():\n",
    "# This is the nested function\n",
    "        nonlocal msg\n",
    "        print (msg)\n",
    "        msg = \"test\"\n",
    "        print(msg)  \n",
    "    printer()\n",
    "    print(msg)\n",
    "\n",
    "# We execute the function\n",
    "# Output: Hello\n",
    "print_msg(\"Hello\")"
   ]
  },
  {
   "cell_type": "code",
   "execution_count": 10,
   "metadata": {},
   "outputs": [
    {
     "name": "stdout",
     "output_type": "stream",
     "text": [
      "Inner function:  10\n",
      "Outer function:  10\n"
     ]
    }
   ],
   "source": [
    "# Closures Example\n",
    "\n",
    "def outer_function():\n",
    "    a = 5\n",
    "    def inner_function():\n",
    "#         nonlocal a\n",
    "        a = 10\n",
    "        print(\"Inner function: \",a)\n",
    "    inner_function()\n",
    "    print(\"Outer function: \",a)\n",
    "\n",
    "outer_function()"
   ]
  },
  {
   "cell_type": "code",
   "execution_count": 7,
   "metadata": {},
   "outputs": [
    {
     "name": "stdout",
     "output_type": "stream",
     "text": [
      "None\n",
      "Hey!\n",
      "(<cell at 0x0000000004EC1978: str object at 0x0000000004EEC650>,)\n",
      "Hey!\n"
     ]
    }
   ],
   "source": [
    "\n",
    "# Closures Example\n",
    "\n",
    "# All function objects have a __closure__ attribute that returns a tuple of cell objects if it is a closure function. \n",
    "\n",
    "# The cell object has the attribute cell_contents which stores the closed value.\n",
    "\n",
    "\n",
    "# Python program to illustrate\n",
    "# closures\n",
    "\n",
    "def outerFunction(text):\n",
    "    text = text\n",
    " \n",
    "    def innerFunction():\n",
    "        print(text)\n",
    " \n",
    "    return innerFunction # Note we are returning function WITHOUT parenthesis\n",
    " \n",
    "if __name__ == '__main__':\n",
    "    myFunction = outerFunction('Hey!')\n",
    "    print(outerFunction.__closure__)\n",
    "    del outerFunction\n",
    "    myFunction()\n",
    "    \n",
    "    # Function objects have a __closure__ attribute that returns a tuple of cell objects.\n",
    "    \n",
    "    print(myFunction.__closure__)\n",
    "    print(myFunction.__closure__[0].cell_contents)\n",
    "    "
   ]
  },
  {
   "cell_type": "code",
   "execution_count": 4,
   "metadata": {},
   "outputs": [
    {
     "name": "stdout",
     "output_type": "stream",
     "text": [
      "27\n",
      "15\n",
      "30\n"
     ]
    }
   ],
   "source": [
    "def make_multiplier_of(n):\n",
    "    def multiplier(x):\n",
    "        return x * n\n",
    "    return multiplier\n",
    "\n",
    "# Multiplier of 3\n",
    "times3 = make_multiplier_of(3)\n",
    "\n",
    "# Multiplier of 5\n",
    "times5 = make_multiplier_of(5)\n",
    "\n",
    "# Output: 27\n",
    "print(times3(9))\n",
    "\n",
    "# Output: 15\n",
    "print(times5(3))\n",
    "\n",
    "# Output: 30\n",
    "print(times5(times3(2)))"
   ]
  },
  {
   "cell_type": "code",
   "execution_count": null,
   "metadata": {},
   "outputs": [],
   "source": []
  }
 ],
 "metadata": {
  "kernelspec": {
   "display_name": "Python 3",
   "language": "python",
   "name": "python3"
  },
  "language_info": {
   "codemirror_mode": {
    "name": "ipython",
    "version": 3
   },
   "file_extension": ".py",
   "mimetype": "text/x-python",
   "name": "python",
   "nbconvert_exporter": "python",
   "pygments_lexer": "ipython3",
   "version": "3.6.1"
  }
 },
 "nbformat": 4,
 "nbformat_minor": 1
}
