{
 "cells": [
  {
   "cell_type": "code",
   "execution_count": 2,
   "metadata": {},
   "outputs": [],
   "source": [
    "import requests\n",
    "import json\n"
   ]
  },
  {
   "cell_type": "code",
   "execution_count": 14,
   "metadata": {},
   "outputs": [
    {
     "name": "stdout",
     "output_type": "stream",
     "text": [
      "============ Get Request ============= \n",
      "\n",
      "[1] :: Response Status Code : 200 \n",
      "[2] :: Check if the response is a success : True \n",
      "[3] :: Get the Json response of the request sent : \n",
      "{'emps': [{'id': '201', 'name': 'Rajkumar P', 'title': 'Sr Software Engineer'}]}\n",
      "\n",
      "[4] :: Get the URL that was accessed : http://127.0.0.1:5000/empdb/employee\n"
     ]
    }
   ],
   "source": [
    "# payload = {\"id\": '110', \"name\": 'ABC',\"title\": 'Technical Analyst'}\n",
    "\n",
    "resp = requests.get(\"http://127.0.0.1:5000/empdb/employee\")\n",
    "\n",
    "print(\"============ Get Request ============= \\n\")\n",
    "\n",
    "print(\"[1] :: Response Status Code : {} \".format(resp.status_code))  # Get the status code 200\n",
    "print(\"[2] :: Check if the response is a success : {} \".format(resp.status_code == requests.codes.ok))  # check if response is success\n",
    "print(\"[3] :: Get the Json response of the request sent : \\n{}\\n\".format(resp.json()))  # Get the Content\n",
    "print(\"[4] :: Get the URL that was accessed : {}\".format(resp.url)) # Get the URL\n"
   ]
  },
  {
   "cell_type": "code",
   "execution_count": 4,
   "metadata": {},
   "outputs": [
    {
     "name": "stdout",
     "output_type": "stream",
     "text": [
      "============ Get Request Headers============= \n",
      "\n",
      "[6] :: Get the header list received in response:{'Content-Type': 'application/json', 'Content-Length': '217', 'Server': 'Werkzeug/0.14.1 Python/3.6.1', 'Date': 'Thu, 11 Oct 2018 05:52:21 GMT'}\n",
      "[7] :: Get specific header(Content-Type) value: application/json\n",
      "[8] :: Get the header of a given url:\n",
      "{'Content-Type': 'application/json', 'Content-Length': '217', 'Server': 'Werkzeug/0.14.1 Python/3.6.1', 'Date': 'Thu, 11 Oct 2018 05:53:22 GMT'}\n"
     ]
    }
   ],
   "source": [
    "print(\"============ Get Request Headers============= \\n\")\n",
    "# Headers\n",
    "print(\"[6] :: Get the header list received in response:{}\".format(resp.headers))  # get all the headers\n",
    "print(\"[7] :: Get specific header(Content-Type) value: {}\".format(resp.headers['Content-Type']))  # get specific header values\n"
   ]
  },
  {
   "cell_type": "code",
   "execution_count": 3,
   "metadata": {},
   "outputs": [
    {
     "name": "stdout",
     "output_type": "stream",
     "text": [
      "============ Post Request with Json Input ============= \n",
      "\n",
      "[9] :: Get the Json response of the request sent : \n",
      "{'id': '110', 'name': 'ABC', 'title': 'Technical Analyst'}\n",
      "\n"
     ]
    }
   ],
   "source": [
    "\n",
    "\n",
    "print(\"============ Post Request with Json Input ============= \\n\")\n",
    "payload = {\"id\": '110', \"name\": 'ABC',\"title\": 'Technical Analyst'}\n",
    "resp = requests.post(\"http://127.0.0.1:5000/empdb/employee\", json=payload)\n",
    "print(\"[9] :: Get the Json response of the request sent : \\n{}\\n\".format(resp.json()))  # Get the Content\n",
    "\n"
   ]
  },
  {
   "cell_type": "code",
   "execution_count": 13,
   "metadata": {},
   "outputs": [
    {
     "name": "stdout",
     "output_type": "stream",
     "text": [
      "============ Post Request with data Input ============= \n",
      "\n",
      "<class 'str'>\n",
      "[10] :: Get the Json response of the request sent : \n",
      "{'id': '111', 'name': 'ABC', 'title': 'Technical Analyst'}\n",
      "\n"
     ]
    }
   ],
   "source": [
    "print(\"============ Post Request with data Input ============= \\n\")\n",
    "\n",
    "payload = json.dumps({\"id\": '111', \"name\": 'ABC',\"title\": 'Technical Analyst'})\n",
    "\n",
    "print(type(payload))\n",
    "\n",
    "resp = requests.post(\"http://127.0.0.1:5000/emp/post\", data=payload)\n",
    "\n",
    "print(\"[10] :: Get the Json response of the request sent : \\n{}\\n\".format(resp.json()))  # Get the Content\n",
    "\n"
   ]
  },
  {
   "cell_type": "code",
   "execution_count": null,
   "metadata": {},
   "outputs": [],
   "source": []
  }
 ],
 "metadata": {
  "kernelspec": {
   "display_name": "Python 3",
   "language": "python",
   "name": "python3"
  },
  "language_info": {
   "codemirror_mode": {
    "name": "ipython",
    "version": 3
   },
   "file_extension": ".py",
   "mimetype": "text/x-python",
   "name": "python",
   "nbconvert_exporter": "python",
   "pygments_lexer": "ipython3",
   "version": "3.6.1"
  }
 },
 "nbformat": 4,
 "nbformat_minor": 2
}
