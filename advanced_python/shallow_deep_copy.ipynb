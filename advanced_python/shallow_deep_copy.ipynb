{
 "cells": [
  {
   "cell_type": "code",
   "execution_count": 15,
   "metadata": {},
   "outputs": [
    {
     "name": "stdout",
     "output_type": "stream",
     "text": [
      "Pointer for Original List:  82761352\n",
      "Pointer for New List     :  82761352\n",
      "Original List:  [1, [2, 3], 4, 5]\n",
      "New List     :  [1, [2, 3], 4, 5]\n",
      "\n",
      "**** Update value in Original ****\n",
      "\n",
      "Original List:  [1, [2, 3], 10, 5]\n",
      "New List     :  [1, [2, 3], 10, 5]\n",
      "\n",
      "**** Update value in New List ****\n",
      "\n",
      "Original List:  [1, [2, 3], 10, 11]\n",
      "New List     :  [1, [2, 3], 10, 11]\n"
     ]
    }
   ],
   "source": [
    "# Assignment\n",
    "\n",
    "original = [1, [2, 3],4,5] \n",
    "\n",
    "a = original # assignment\n",
    "\n",
    "print(\"Pointer for Original List: \",id(original))\n",
    "print(\"Pointer for New List     : \",id(a))\n",
    "\n",
    "\n",
    "print(\"Original List: \",original)\n",
    "print(\"New List     : \",a)\n",
    "\n",
    "print(\"\\n**** Update value in Original ****\\n\")\n",
    "original[2] = 10\n",
    "\n",
    "print(\"Original List: \",original)\n",
    "print(\"New List     : \",a)\n",
    "\n",
    "print(\"\\n**** Update value in New List ****\\n\") \n",
    "\n",
    "a[3] = 11\n",
    "\n",
    "print(\"Original List: \",original)\n",
    "print(\"New List     : \",a)"
   ]
  },
  {
   "cell_type": "code",
   "execution_count": 27,
   "metadata": {},
   "outputs": [
    {
     "name": "stdout",
     "output_type": "stream",
     "text": [
      "\n",
      "*** New List (Shallow Copy) has its own pointer ***\n",
      "\n",
      "Pointer for Original List               :  82762696\n",
      "Pointer for New List (Shallow Copy)     :  82639432\n",
      "Original List:  [1, [2, 3], 4, 5]\n",
      "New List     :  [1, [2, 3], 4, 5]\n",
      "\n",
      " *** The elements of s references the original elements *** \n",
      "\n",
      "Pointer for 1st element of Original List               :  1507767360\n",
      "Pointer for 1st element of New List (Shallow Copy)     :  1507767360\n",
      "\n",
      "**** Update/append value in Original ****\n",
      "\n",
      "Original List:  [1, [2, 3, 10], 10, 5, [40, 50, 60]]\n",
      "New List     :  [1, [2, 3, 10], 4, 5]\n",
      "\n",
      "**** Update/append value in New ****\n",
      "\n",
      "Original List:  [1, [2, 3, 10], 10, 5, [40, 50, 60]]\n",
      "New List     :  [1, [2, 3, 10], 4, 5, [22, 33, 44]]\n"
     ]
    }
   ],
   "source": [
    "# Shallow Copy\n",
    "\n",
    "original = [1, [2, 3],4,5] \n",
    "\n",
    "# shallow-copy\n",
    "s = original[:]  # s = copy.copy(original)\n",
    "\n",
    "print(\"\\n*** New List (Shallow Copy) has its own pointer ***\\n\")\n",
    "print(\"Pointer for Original List               : \",id(original))\n",
    "print(\"Pointer for New List (Shallow Copy)     : \",id(s))\n",
    "\n",
    "print(\"Original List: \",original)\n",
    "print(\"New List     : \",s)\n",
    "\n",
    "print(\"\\n *** The elements of s references the original elements *** \\n\")\n",
    "\n",
    "print(\"Pointer for 1st element of Original List               : \",id(original[0]))\n",
    "print(\"Pointer for 1st element of New List (Shallow Copy)     : \",id(s[0]))\n",
    "\n",
    "print(\"\\n**** Update/append value in Original ****\\n\")\n",
    "original[1].append(10)\n",
    "original[2] = 10\n",
    "original.append([40,50,60])\n",
    "\n",
    "print(\"Original List: \",original)\n",
    "print(\"New List     : \",s)\n",
    "\n",
    "print(\"\\n**** Update/append value in New ****\\n\")\n",
    "s.append([22,33,44])\n",
    "\n",
    "print(\"Original List: \",original)\n",
    "print(\"New List     : \",s)"
   ]
  },
  {
   "cell_type": "code",
   "execution_count": 36,
   "metadata": {},
   "outputs": [
    {
     "name": "stdout",
     "output_type": "stream",
     "text": [
      "\n",
      "*** New List (Deep Copy) has its own pointer ***\n",
      "\n",
      "Pointer for Original List        :  82007112\n",
      "Pointer for New List (Deep Copy) :  82761736\n",
      "Original List:  [[1, 2], [2, 3], [3, 4]]\n",
      "New List     :  [[1, 2], [2, 3], [3, 4]]\n",
      "\n",
      " *** The elements of d are seperate copies *** \n",
      "\n",
      "Pointer for 1st element of Original List               :  80840328\n",
      "Pointer for 1st element of New List (Shallow Copy)     :  81908936\n",
      "\n",
      "**** Update/append value in Original ****\n",
      "\n",
      "Original List:  [[1, 2], [2, 3], [3, 4, 5], [40, 50, 60]]\n",
      "New List     :  [[1, 2], [2, 3], [3, 4]]\n",
      "\n",
      "**** Update/append value in New ****\n",
      "\n",
      "Original List:  [[1, 2], [2, 3], [3, 4, 5], [40, 50, 60]]\n",
      "New List     :  [[1, 2], [2, 3], [3, 4], [22, 33, 44]]\n"
     ]
    }
   ],
   "source": [
    "# Deep Copy\n",
    "\n",
    "import copy\n",
    "\n",
    "original = [[1,2], [2, 3],[3,4]] \n",
    "d = copy.deepcopy(original) # deep-copy\n",
    "\n",
    "print(\"\\n*** New List (Deep Copy) has its own pointer ***\\n\")\n",
    "print(\"Pointer for Original List        : \",id(original))\n",
    "print(\"Pointer for New List (Deep Copy) : \",id(d))\n",
    "\n",
    "print(\"Original List: \",original)\n",
    "print(\"New List     : \",d)\n",
    "\n",
    "print(\"\\n *** The elements of d are seperate copies *** \\n\")\n",
    "\n",
    "print(\"Pointer for 1st element of Original List               : \",id(original[1]))\n",
    "print(\"Pointer for 1st element of New List (Shallow Copy)     : \",id(d[1]))\n",
    "\n",
    "print(\"\\n**** Update/append value in Original ****\\n\")\n",
    "original[2].append(5)\n",
    "original.append([40,50,60])\n",
    "\n",
    "print(\"Original List: \",original)\n",
    "print(\"New List     : \",d)\n",
    "\n",
    "print(\"\\n**** Update/append value in New ****\\n\")\n",
    "d.append([22,33,44])\n",
    "\n",
    "print(\"Original List: \",original)\n",
    "print(\"New List     : \",d)"
   ]
  },
  {
   "cell_type": "code",
   "execution_count": 3,
   "metadata": {},
   "outputs": [
    {
     "name": "stdout",
     "output_type": "stream",
     "text": [
      "84849416 84849416\n",
      "[1, 2, 3, 9] [1, 2, 3, 9]\n",
      "\n",
      " Shallow Copy =======\n",
      "[1, 2, 3, 4] [1, 2, 3, 4]\n",
      "84830280 84849224\n",
      "503821408 503821408\n",
      "[1, 2, 3, 4, 9] [1, 2, 3, 4]\n",
      "[1, 2, 3, 4, 9] [1, 2, 3, 4, 10]\n",
      "84830280 84849224\n",
      "503821408 503821408\n",
      "[1, 2, 7, 4, 9] [1, 2, 3, 4, 10]\n",
      "503821568 503821440\n"
     ]
    }
   ],
   "source": [
    "# List assignment\n",
    "\n",
    "a = [1, 2, 3, 4]\n",
    "b = a\n",
    "print(id(a), id(b))\n",
    "a[3] = 9\n",
    "print(a, b)\n",
    "\n",
    "# List Shallow copy\n",
    "\n",
    "print(\"\\n Shallow Copy =======\")\n",
    "import copy\n",
    "a = [1, 2, 3, 4]\n",
    "b = copy.copy(a)\n",
    "print(a, b)\n",
    "\n",
    "# List have their memory but\n",
    "#  the elements inside the list point to the same memory location\n",
    "print(id(a), id(b)) \n",
    "print(id(a[1]), id(b[1]))\n",
    "\n",
    "# Does not append in the copied list\n",
    "a.append(9)\n",
    "print(a, b)\n",
    "\n",
    "# Does not append in the original list\n",
    "b.append(10)\n",
    "print(a, b)\n",
    "\n",
    "print(id(a), id(b)) \n",
    "print(id(a[1]), id(b[1]))\n",
    "\n",
    "# does not make changes in the \n",
    "b[2] = 8\n",
    "print(a, b)\n",
    "\n",
    "a[2] = 7\n",
    "print(a, b)\n",
    "print(id(a[2]), id(b[2]))\n",
    "\n",
    "a = [1, 2, 3, 4]"
   ]
  },
  {
   "cell_type": "code",
   "execution_count": 28,
   "metadata": {},
   "outputs": [
    {
     "name": "stdout",
     "output_type": "stream",
     "text": [
      "84939208 87546056\n",
      "87547848 87547848\n",
      "[['c', 1], ['y', 2]] [['c', 1], ['y', 2]]\n",
      "84939144 84939144\n"
     ]
    }
   ],
   "source": [
    "a = [['x', 1], ['y', 2]]\n",
    "\n",
    "b = copy.copy(a)\n",
    "\n",
    "print(id(a), id(b))\n",
    "\n",
    "print(id(a[1]), id(b[1]))\n",
    "\n",
    "a[0][0] = 'c'\n",
    "\n",
    "print(a, b)\n",
    "print(id(a[0]), id(b[0]))"
   ]
  },
  {
   "cell_type": "code",
   "execution_count": 40,
   "metadata": {},
   "outputs": [
    {
     "name": "stdout",
     "output_type": "stream",
     "text": [
      "87928456 87928712\n",
      "87799880 87928776\n",
      "[['x', 1], ['y', 2]] [['c', 1], ['y', 2]]\n",
      "87928392 87928328\n"
     ]
    }
   ],
   "source": [
    "#deep copies\n",
    "\n",
    "a = [['x', 1], ['y', 2]]\n",
    "\n",
    "import copy\n",
    "b = copy.deepcopy(a)\n",
    "\n",
    "\n",
    "print(id(a), id(b))\n",
    "\n",
    "print(id(a[1]), id(b[1]))\n",
    "\n",
    "b[0][0] = 'c'\n",
    "\n",
    "print(a, b)\n",
    "print(id(a[0]), id(b[0]))"
   ]
  },
  {
   "cell_type": "code",
   "execution_count": null,
   "metadata": {},
   "outputs": [],
   "source": []
  }
 ],
 "metadata": {
  "kernelspec": {
   "display_name": "Python 3",
   "language": "python",
   "name": "python3"
  },
  "language_info": {
   "codemirror_mode": {
    "name": "ipython",
    "version": 3
   },
   "file_extension": ".py",
   "mimetype": "text/x-python",
   "name": "python",
   "nbconvert_exporter": "python",
   "pygments_lexer": "ipython3",
   "version": "3.6.1"
  }
 },
 "nbformat": 4,
 "nbformat_minor": 1
}
