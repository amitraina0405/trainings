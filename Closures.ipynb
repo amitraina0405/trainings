{
 "cells": [
  {
   "cell_type": "code",
   "execution_count": null,
   "metadata": {},
   "outputs": [],
   "source": [
    "# Nested functions and Non-Local Variables\n",
    "\n",
    "def print_msg(msg):\n",
    "# This is the outer enclosing function\n",
    "    print(msg)\n",
    "\n",
    "    def printer():\n",
    "# This is the nested function\n",
    "        nonlocal msg\n",
    "        msg = \"test\"\n",
    "        print(msg)  \n",
    "    printer()\n",
    "    print(msg)\n",
    "\n",
    "# We execute the function\n",
    "# Output: Hello\n",
    "print_msg(\"Hello\")"
   ]
  },
  {
   "cell_type": "code",
   "execution_count": 5,
   "metadata": {},
   "outputs": [
    {
     "name": "stdout",
     "output_type": "stream",
     "text": [
      "Inner function:  10\n",
      "Outer function:  5\n"
     ]
    }
   ],
   "source": [
    "# Closures Example\n",
    "\n",
    "def outer_function():\n",
    "    a = 5\n",
    "    def inner_function():\n",
    "#         nonlocal a\n",
    "        a = 10\n",
    "        print(\"Inner function: \",a)\n",
    "    inner_function()\n",
    "    print(\"Outer function: \",a)\n",
    "\n",
    "outer_function()"
   ]
  },
  {
   "cell_type": "code",
   "execution_count": 4,
   "metadata": {},
   "outputs": [
    {
     "name": "stdout",
     "output_type": "stream",
     "text": [
      "Hey!\n",
      "(<cell at 0x00000000050B18B8: str object at 0x00000000050EF7A0>,)\n",
      "Hey!\n"
     ]
    }
   ],
   "source": [
    "# Closures Example\n",
    "\n",
    "# Python program to illustrate\n",
    "# closures\n",
    "def outerFunction(text):\n",
    "    text = text\n",
    " \n",
    "    def innerFunction():\n",
    "        print(text)\n",
    " \n",
    "    return innerFunction # Note we are returning function WITHOUT parenthesis\n",
    " \n",
    "if __name__ == '__main__':\n",
    "    myFunction = outerFunction('Hey!')\n",
    "    del outerFunction\n",
    "    myFunction()\n",
    "    \n",
    "    # Function objects have a __closure__ attribute that returns a tuple of cell objects.\n",
    "    \n",
    "    print(myFunction.__closure__)\n",
    "    print(myFunction.__closure__[0].cell_contents)"
   ]
  },
  {
   "cell_type": "code",
   "execution_count": null,
   "metadata": {},
   "outputs": [],
   "source": []
  }
 ],
 "metadata": {
  "kernelspec": {
   "display_name": "Python 3",
   "language": "python",
   "name": "python3"
  },
  "language_info": {
   "codemirror_mode": {
    "name": "ipython",
    "version": 3
   },
   "file_extension": ".py",
   "mimetype": "text/x-python",
   "name": "python",
   "nbconvert_exporter": "python",
   "pygments_lexer": "ipython3",
   "version": "3.6.1"
  }
 },
 "nbformat": 4,
 "nbformat_minor": 2
}
