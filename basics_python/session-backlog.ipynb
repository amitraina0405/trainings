{
 "cells": [
  {
   "cell_type": "code",
   "execution_count": null,
   "metadata": {},
   "outputs": [],
   "source": [
    "#  multiline real time example : Done\n",
    "#  Example for Comments/ indentation/docstring/Constants : Done \n",
    "#  How to install a new library and use it : Done\n",
    "\n",
    "\n",
    "#  Range Function\n",
    "#  Use Case for Str\n",
    "#  How to use one python script func in another : Modules : This we will look into it gradually\n",
    "\n"
   ]
  }
 ],
 "metadata": {
  "kernelspec": {
   "display_name": "Python 3",
   "language": "python",
   "name": "python3"
  },
  "language_info": {
   "codemirror_mode": {
    "name": "ipython",
    "version": 3
   },
   "file_extension": ".py",
   "mimetype": "text/x-python",
   "name": "python",
   "nbconvert_exporter": "python",
   "pygments_lexer": "ipython3",
   "version": "3.7.5"
  }
 },
 "nbformat": 4,
 "nbformat_minor": 4
}
