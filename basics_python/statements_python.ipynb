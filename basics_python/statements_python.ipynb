{
 "cells": [
  {
   "cell_type": "code",
   "execution_count": 6,
   "metadata": {},
   "outputs": [
    {
     "name": "stdout",
     "output_type": "stream",
     "text": [
      "=========== Assignment Statements ==========\n",
      "10  :  20  :  30\n",
      "{62}\n"
     ]
    }
   ],
   "source": [
    "# Statements\n",
    "\n",
    "print(\"=========== Assignment Statements ==========\")\n",
    "a = 1\n",
    "b = 2\n",
    "c = 3\n",
    "a=10; b=20; c=30\n",
    "variable = {1+2+3+4+ \n",
    "             5+6+7+8+\n",
    "             8+9+0+ \n",
    "            9}\n",
    "\n",
    "\n",
    "print(a,\" : \",b,\" : \",c)\n",
    "print(variable)"
   ]
  },
  {
   "cell_type": "code",
   "execution_count": null,
   "metadata": {},
   "outputs": [],
   "source": []
  }
 ],
 "metadata": {
  "kernelspec": {
   "display_name": "Python 3",
   "language": "python",
   "name": "python3"
  },
  "language_info": {
   "codemirror_mode": {
    "name": "ipython",
    "version": 3
   },
   "file_extension": ".py",
   "mimetype": "text/x-python",
   "name": "python",
   "nbconvert_exporter": "python",
   "pygments_lexer": "ipython3",
   "version": "3.7.5"
  }
 },
 "nbformat": 4,
 "nbformat_minor": 4
}
