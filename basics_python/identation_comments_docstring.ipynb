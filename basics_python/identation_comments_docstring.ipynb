{
 "cells": [
  {
   "cell_type": "code",
   "execution_count": null,
   "metadata": {},
   "outputs": [],
   "source": [
    "i = 10\n",
    "if i == 10:\n",
    "    print('TRaining')\n",
    "\n",
    "print(\"Training1\")"
   ]
  },
  {
   "cell_type": "code",
   "execution_count": 1,
   "metadata": {},
   "outputs": [
    {
     "name": "stdout",
     "output_type": "stream",
     "text": [
      "=============== Indentation ===============\n",
      "For Started\n",
      "1\n",
      "2\n",
      "3\n",
      "4\n",
      "5\n",
      "For Ended\n"
     ]
    }
   ],
   "source": [
    "# My Training Demo\n",
    "\n",
    "print(\"=============== Indentation ===============\")\n",
    "\n",
    "print(\"For Started\")\n",
    "for i in range(1,11):\n",
    "    print(i)\n",
    "    if i == 5:\n",
    "        break\n",
    "        \n",
    "print(\"For Ended\")"
   ]
  },
  {
   "cell_type": "code",
   "execution_count": 6,
   "metadata": {},
   "outputs": [
    {
     "name": "stdout",
     "output_type": "stream",
     "text": [
      "=============== Comments ===============\n"
     ]
    },
    {
     "data": {
      "text/plain": [
       "' This is \\n    a \\n    multi line \\n    comment '"
      ]
     },
     "execution_count": 6,
     "metadata": {},
     "output_type": "execute_result"
    }
   ],
   "source": [
    "print(\"=============== Comments ===============\")\n",
    "\n",
    "# This is a comment\n",
    "\"\"\" This is \n",
    "    a \n",
    "    multi line \n",
    "    comment \"\"\"\n",
    "\n",
    "# \"\"\"\n",
    "# test \"\"\"\n"
   ]
  },
  {
   "cell_type": "code",
   "execution_count": 7,
   "metadata": {},
   "outputs": [
    {
     "name": "stdout",
     "output_type": "stream",
     "text": [
      "=============== Docstring ===============\n",
      "Inside Sum Function:\n",
      "5\n",
      "\n",
      "        Desc: Function to find sum of two number\n",
      "        :param : num : int : rollno\n",
      "        :param : num1: first number ... int \n",
      "        :return : \n",
      "    \n"
     ]
    }
   ],
   "source": [
    "print(\"=============== Docstring ===============\")\n",
    "\n",
    "\n",
    "def sum(num, num1):\n",
    "    \"\"\"\n",
    "        Desc: Function to find sum of two number\n",
    "        :param : num : int : rollno\n",
    "        :param : num1: first number ... int \n",
    "        :return : \n",
    "    \"\"\"\n",
    "    \"\"\" RITU \"\"\"\n",
    "    print(\"Inside Sum Function:\")\n",
    "    return num+num1\n",
    "\n",
    "print(sum(2,3))\n",
    "print(sum.__doc__)"
   ]
  },
  {
   "cell_type": "code",
   "execution_count": null,
   "metadata": {},
   "outputs": [],
   "source": []
  }
 ],
 "metadata": {
  "kernelspec": {
   "display_name": "Python 3",
   "language": "python",
   "name": "python3"
  },
  "language_info": {
   "codemirror_mode": {
    "name": "ipython",
    "version": 3
   },
   "file_extension": ".py",
   "mimetype": "text/x-python",
   "name": "python",
   "nbconvert_exporter": "python",
   "pygments_lexer": "ipython3",
   "version": "3.7.5"
  }
 },
 "nbformat": 4,
 "nbformat_minor": 4
}
