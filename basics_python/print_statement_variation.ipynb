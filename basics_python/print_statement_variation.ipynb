{
 "cells": [
  {
   "cell_type": "code",
   "execution_count": 2,
   "metadata": {},
   "outputs": [
    {
     "name": "stdout",
     "output_type": "stream",
     "text": [
      "Python Advanced Training 10\n"
     ]
    }
   ],
   "source": [
    "# Normal Print \n",
    "a = 10\n",
    "print(\"Python Advanced Training\", a)"
   ]
  },
  {
   "cell_type": "code",
   "execution_count": 4,
   "metadata": {},
   "outputs": [],
   "source": [
    "# - F-strings provide a way to embed expressions inside string literals, using a minimal syntax. \n",
    "# - It should be noted that an f-string is really an expression evaluated at run time, not a constant value. \n",
    "# - An f-string is a literal string, prefixed with 'f', which contains expressions inside braces. \n",
    "# - The expressions are replaced with their values."
   ]
  },
  {
   "cell_type": "code",
   "execution_count": 10,
   "metadata": {},
   "outputs": [
    {
     "ename": "TypeError",
     "evalue": "'str' object is not callable",
     "output_type": "error",
     "traceback": [
      "\u001b[1;31m---------------------------------------------------------------------------\u001b[0m",
      "\u001b[1;31mTypeError\u001b[0m                                 Traceback (most recent call last)",
      "\u001b[1;32m<ipython-input-10-8ee4e230f593>\u001b[0m in \u001b[0;36m<module>\u001b[1;34m\u001b[0m\n\u001b[0;32m      4\u001b[0m \u001b[0mage\u001b[0m \u001b[1;33m=\u001b[0m \u001b[1;36m50\u001b[0m\u001b[1;33m\u001b[0m\u001b[1;33m\u001b[0m\u001b[0m\n\u001b[0;32m      5\u001b[0m \u001b[1;33m\u001b[0m\u001b[0m\n\u001b[1;32m----> 6\u001b[1;33m \u001b[0mprint\u001b[0m\u001b[1;33m(\u001b[0m\u001b[1;34mf'My name is {print}, my age next year is {age+1}'\u001b[0m\u001b[1;33m)\u001b[0m\u001b[1;33m\u001b[0m\u001b[1;33m\u001b[0m\u001b[0m\n\u001b[0m\u001b[0;32m      7\u001b[0m \u001b[0mprint\u001b[0m\u001b[1;33m(\u001b[0m\u001b[1;34mf'He said his name is {name}.'\u001b[0m\u001b[1;33m)\u001b[0m\u001b[1;33m\u001b[0m\u001b[1;33m\u001b[0m\u001b[0m\n",
      "\u001b[1;31mTypeError\u001b[0m: 'str' object is not callable"
     ]
    }
   ],
   "source": [
    "# Using f literal string : A variable that points to a string is a string litteral\n",
    "\n",
    "name = 'Fred'\n",
    "age = 50\n",
    "\n",
    "print(f'My name is {name}, my age next year is {age+1}')\n",
    "print(f'He said his name is {name}.')"
   ]
  },
  {
   "cell_type": "code",
   "execution_count": 7,
   "metadata": {},
   "outputs": [
    {
     "ename": "IndexError",
     "evalue": "tuple index out of range",
     "output_type": "error",
     "traceback": [
      "\u001b[1;31m---------------------------------------------------------------------------\u001b[0m",
      "\u001b[1;31mIndexError\u001b[0m                                Traceback (most recent call last)",
      "\u001b[1;32m<ipython-input-7-64e226313967>\u001b[0m in \u001b[0;36m<module>\u001b[1;34m\u001b[0m\n\u001b[0;32m      4\u001b[0m \u001b[0mmsg\u001b[0m \u001b[1;33m=\u001b[0m \u001b[1;34m\"Python Training\"\u001b[0m\u001b[1;33m\u001b[0m\u001b[1;33m\u001b[0m\u001b[0m\n\u001b[0;32m      5\u001b[0m \u001b[1;33m\u001b[0m\u001b[0m\n\u001b[1;32m----> 6\u001b[1;33m \u001b[0mprint\u001b[0m\u001b[1;33m(\u001b[0m\u001b[1;34m\"Hello, {}.\\nYou are in {} .\"\u001b[0m\u001b[1;33m.\u001b[0m\u001b[0mformat\u001b[0m\u001b[1;33m(\u001b[0m\u001b[0mname\u001b[0m\u001b[1;33m)\u001b[0m\u001b[1;33m)\u001b[0m\u001b[1;33m\u001b[0m\u001b[1;33m\u001b[0m\u001b[0m\n\u001b[0m\u001b[0;32m      7\u001b[0m \u001b[0mprint\u001b[0m\u001b[1;33m(\u001b[0m\u001b[1;34m\"-----------------\"\u001b[0m\u001b[1;33m)\u001b[0m\u001b[1;33m\u001b[0m\u001b[1;33m\u001b[0m\u001b[0m\n\u001b[0;32m      8\u001b[0m \u001b[0mprint\u001b[0m\u001b[1;33m(\u001b[0m\u001b[1;34m\"Hello, {1}.\\nYou are in {0} .\"\u001b[0m\u001b[1;33m.\u001b[0m\u001b[0mformat\u001b[0m\u001b[1;33m(\u001b[0m\u001b[0mname\u001b[0m\u001b[1;33m,\u001b[0m \u001b[0mmsg\u001b[0m\u001b[1;33m)\u001b[0m\u001b[1;33m)\u001b[0m\u001b[1;33m\u001b[0m\u001b[1;33m\u001b[0m\u001b[0m\n",
      "\u001b[1;31mIndexError\u001b[0m: tuple index out of range"
     ]
    }
   ],
   "source": [
    "# Using format() function\n",
    "\n",
    "name = \"All\"\n",
    "msg = \"Python Training\"\n",
    "\n",
    "print(\"Hello, {}.\\nYou are in {} .\".format(name, msg))\n",
    "print(\"-----------------\")\n",
    "print(\"Hello, {1}.\\nYou are in {0} .\".format(name, msg))\n"
   ]
  },
  {
   "cell_type": "code",
   "execution_count": 8,
   "metadata": {},
   "outputs": [
    {
     "name": "stdout",
     "output_type": "stream",
     "text": [
      "{1: 'Test-1', 2: 'Test-2', 3: 'Test-2', 4: 'Test-2', 5: 'Test-2', 6: 'Test-2', 7: 'Test-2', 8: 'Test-2', 9: 'Test-2'}\n",
      "{1: 'Test-1',\n",
      " 2: 'Test-2',\n",
      " 3: 'Test-2',\n",
      " 4: 'Test-2',\n",
      " 5: 'Test-2',\n",
      " 6: 'Test-2',\n",
      " 7: 'Test-2',\n",
      " 8: 'Test-2',\n",
      " 9: 'Test-2'}\n"
     ]
    }
   ],
   "source": [
    "# https://docs.python.org/3/library/pprint.html\n",
    "\n",
    "\"\"\" The formatted representation keeps objects on a single line if it can, \n",
    "and breaks them onto multiple lines if they don’t fit within the allowed width.\"\"\"\n",
    "    \n",
    "import pprint\n",
    "\n",
    "d_vals = {1:\"Test-1\", 2:\"Test-2\", 3:\"Test-2\", 4:\"Test-2\", 5:\"Test-2\", 6:\"Test-2\", 7:\"Test-2\", 8:\"Test-2\", 9:\"Test-2\"}\n",
    "\n",
    "print(d_vals)\n",
    "\n",
    "pprint.pprint(d_vals)"
   ]
  },
  {
   "cell_type": "code",
   "execution_count": null,
   "metadata": {},
   "outputs": [],
   "source": []
  }
 ],
 "metadata": {
  "kernelspec": {
   "display_name": "Python 3",
   "language": "python",
   "name": "python3"
  },
  "language_info": {
   "codemirror_mode": {
    "name": "ipython",
    "version": 3
   },
   "file_extension": ".py",
   "mimetype": "text/x-python",
   "name": "python",
   "nbconvert_exporter": "python",
   "pygments_lexer": "ipython3",
   "version": "3.7.5"
  }
 },
 "nbformat": 4,
 "nbformat_minor": 4
}
