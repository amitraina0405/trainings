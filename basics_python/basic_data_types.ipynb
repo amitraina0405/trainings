{
 "cells": [
  {
   "cell_type": "code",
   "execution_count": 1,
   "metadata": {},
   "outputs": [
    {
     "name": "stdout",
     "output_type": "stream",
     "text": [
      "=========== Number Data Types =============\n",
      "Type of variable a = 5: <class 'int'>\n",
      "Type of variable b = 3.4: <class 'float'>\n",
      "False\n"
     ]
    }
   ],
   "source": [
    "print(\"=========== Number Data Types =============\")\n",
    "\n",
    "a = 5\n",
    "b = 3.4\n",
    "# Output: <class 'int'>\n",
    "print(\"Type of variable a = 5: {}\".format(type(a)))\n",
    "\n",
    "# Output: <class 'float'>\n",
    "print(\"Type of variable b = 3.4: {}\".format(type(b)))\n",
    "\n",
    "type(b) == int\n",
    "\n",
    "# Output: True\n",
    "print(isinstance(b, false))\n",
    "\n"
   ]
  },
  {
   "cell_type": "code",
   "execution_count": 2,
   "metadata": {},
   "outputs": [
    {
     "name": "stdout",
     "output_type": "stream",
     "text": [
      "=========== String Data Types =============\n",
      "Hello\n",
      "Hello\n",
      "Hello\n",
      "Hello, welcome to\n",
      "           the world of Python\n"
     ]
    }
   ],
   "source": [
    "print(\"=========== String Data Types =============\")\n",
    "\n",
    "# all of the following are equivalent\n",
    "my_string = 'Hello'\n",
    "print(my_string)\n",
    "\n",
    "my_string = \"Hello\"\n",
    "print(my_string)\n",
    "\n",
    "my_string = '''Hello'''\n",
    "print(my_string)\n",
    "\n",
    "# triple quotes string can extend multiple lines\n",
    "my_string = \"\"\"Hello, welcome to\n",
    "           the world of Python\"\"\"\n",
    "print(my_string)\n",
    "\n"
   ]
  },
  {
   "cell_type": "code",
   "execution_count": 3,
   "metadata": {},
   "outputs": [
    {
     "name": "stdout",
     "output_type": "stream",
     "text": [
      "str =  programiz\n",
      "str[0] =  p\n",
      "str[-1] =  z\n",
      "str[1:5] =  rogr\n",
      "str[5:-2] =  am\n"
     ]
    }
   ],
   "source": [
    "# access characters in a string\n",
    "\n",
    "str = 'programiz'\n",
    "print('str = ', str)\n",
    "\n",
    "#first character\n",
    "print('str[0] = ', str[0])\n",
    "\n",
    "#last character\n",
    "print('str[-1] = ', str[-1])\n",
    "\n",
    "#slicing 2nd to 5th character\n",
    "print('str[1:5] = ', str[1:5])\n",
    "\n",
    "#slicing 6th to 2nd last character\n",
    "print('str[5:-2] = ', str[5:-2])\n"
   ]
  },
  {
   "cell_type": "code",
   "execution_count": 8,
   "metadata": {},
   "outputs": [
    {
     "name": "stdout",
     "output_type": "stream",
     "text": [
      "cookie\n",
      "Chocolate cookie.\n",
      "Chocolate cookie\n",
      "Chocolate cookie.\n",
      "=======================\n",
      "\n",
      "=======================\n",
      "dlroW olleH\n",
      "1235\n"
     ]
    }
   ],
   "source": [
    "snack = \"Chocolate cookie.\"\n",
    "\n",
    "print(snack[10:-1]) # -1: since the stop index is excluded in slicing.\n",
    "\n",
    "# Stop value not provided\n",
    "print(snack[0:])\n",
    "\n",
    "# Start value not provided (Stop value excluded according to syntax)\n",
    "print(snack[:-1])\n",
    "\n",
    "# This is also allowed\n",
    "print(snack[:])\n",
    "\n",
    "# This is also allowed\n",
    "print(\"=======================\")\n",
    "# snack = \"Chocolate cookie.\"\n",
    "print(snack[-6:-4])\n",
    "print(\"=======================\")\n",
    "\n",
    "txt = \"Hello World\"[::-1]\n",
    "print(txt)\n",
    "\n",
    "number_string = \"14253657\"\n",
    "print(number_string[0:-1:2])\n",
    "\n"
   ]
  },
  {
   "cell_type": "code",
   "execution_count": 9,
   "metadata": {},
   "outputs": [
    {
     "name": "stdout",
     "output_type": "stream",
     "text": [
      "3 letters found\n",
      "Value: True and Type: <class 'bool'>\n"
     ]
    }
   ],
   "source": [
    "\n",
    "# Iterating through a string\n",
    "\n",
    "count = 0\n",
    "for letter in 'Hello World':\n",
    "    if(letter == 'l'):\n",
    "        count += 1\n",
    "print(count,'letters found')\n",
    "+\n",
    "var_bool = True\n",
    "print(\"Value: {} and Type: {}\".format(var_bool,type(var_bool)))"
   ]
  },
  {
   "cell_type": "code",
   "execution_count": null,
   "metadata": {},
   "outputs": [],
   "source": []
  }
 ],
 "metadata": {
  "kernelspec": {
   "display_name": "Python 3",
   "language": "python",
   "name": "python3"
  },
  "language_info": {
   "codemirror_mode": {
    "name": "ipython",
    "version": 3
   },
   "file_extension": ".py",
   "mimetype": "text/x-python",
   "name": "python",
   "nbconvert_exporter": "python",
   "pygments_lexer": "ipython3",
   "version": "3.7.5"
  }
 },
 "nbformat": 4,
 "nbformat_minor": 4
}
