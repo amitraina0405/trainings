{
 "cells": [
  {
   "cell_type": "code",
   "execution_count": 4,
   "metadata": {},
   "outputs": [
    {
     "name": "stdout",
     "output_type": "stream",
     "text": [
      "Marge Simpson\n",
      "Homer Simpson, 1007\n"
     ]
    }
   ],
   "source": [
    "# Simple Inheritance \n",
    "\n",
    "class Person:\n",
    "\n",
    "    def __init__(self, first, last):\n",
    "        self.firstname = first\n",
    "        self.lastname = last\n",
    "\n",
    "    def Name(self):\n",
    "        return self.firstname + \" \" + self.lastname\n",
    "\n",
    "class Employee(Person):\n",
    "\n",
    "    def __init__(self, first, last, staffnum):\n",
    "         \n",
    "        #   both the below statement do the same thing\n",
    "        super().__init__(first, last)\n",
    "        Person.__init__(self,first, last) \n",
    "        \n",
    "        self.staffnumber = staffnum\n",
    "\n",
    "    def GetEmployee(self):\n",
    "        return self.Name() + \", \" +  self.staffnumber\n",
    "\n",
    "x = Person(\"Marge\", \"Simpson\")\n",
    "y = Employee(\"Homer\", \"Simpson\", \"1007\")\n",
    "\n",
    "print(x.Name())\n",
    "print(y.GetEmployee())"
   ]
  },
  {
   "cell_type": "code",
   "execution_count": 5,
   "metadata": {},
   "outputs": [],
   "source": [
    "# Multiple Inheritance"
   ]
  },
  {
   "cell_type": "code",
   "execution_count": 9,
   "metadata": {},
   "outputs": [
    {
     "name": "stdout",
     "output_type": "stream",
     "text": [
      "Function of class A.\n",
      "Function of class B.\n"
     ]
    }
   ],
   "source": [
    "class A:\n",
    "    def func_A(self):\n",
    "        print(\"Function of class A.\")\n",
    "\n",
    "class B:\n",
    "    def func_B(self):\n",
    "        print(\"Function of class B.\")\n",
    "\n",
    "class C(A,B):\n",
    "    pass\n",
    "\n",
    "obj_C = C()\n",
    "obj_C.func_A()\n",
    "obj_C.func_B()"
   ]
  },
  {
   "cell_type": "code",
   "execution_count": 15,
   "metadata": {},
   "outputs": [
    {
     "name": "stdout",
     "output_type": "stream",
     "text": [
      "Function of class A.\n",
      "Function of class B.\n",
      "Common Function Class A\n"
     ]
    },
    {
     "data": {
      "text/plain": [
       "[__main__.C, __main__.A, __main__.B, object]"
      ]
     },
     "execution_count": 15,
     "metadata": {},
     "output_type": "execute_result"
    }
   ],
   "source": [
    "# MRO\n",
    "\n",
    "class A:\n",
    "    def func_A(self):\n",
    "        print(\"Function of class A.\")\n",
    "    \n",
    "    def func_common(self):\n",
    "        print(\"Common Function Class A\")\n",
    "\n",
    "class B:\n",
    "    def func_B(self):\n",
    "        print(\"Function of class B.\")\n",
    "    \n",
    "    def func_common(self):\n",
    "        print(\"Common Function Class B\")\n",
    "\n",
    "class C(A,B):\n",
    "    pass\n",
    "\n",
    "obj_C = C()\n",
    "obj_C.func_A()\n",
    "obj_C.func_B()\n",
    "obj_C.func_common()\n",
    "\n",
    "# MRO of a class\n",
    "C.mro()"
   ]
  },
  {
   "cell_type": "code",
   "execution_count": null,
   "metadata": {},
   "outputs": [],
   "source": []
  },
  {
   "cell_type": "code",
   "execution_count": null,
   "metadata": {},
   "outputs": [],
   "source": []
  }
 ],
 "metadata": {
  "kernelspec": {
   "display_name": "Python 3",
   "language": "python",
   "name": "python3"
  },
  "language_info": {
   "codemirror_mode": {
    "name": "ipython",
    "version": 3
   },
   "file_extension": ".py",
   "mimetype": "text/x-python",
   "name": "python",
   "nbconvert_exporter": "python",
   "pygments_lexer": "ipython3",
   "version": "3.6.1"
  }
 },
 "nbformat": 4,
 "nbformat_minor": 2
}
