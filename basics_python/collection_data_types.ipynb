{
 "cells": [
  {
   "cell_type": "code",
   "execution_count": 9,
   "metadata": {},
   "outputs": [
    {
     "name": "stdout",
     "output_type": "stream",
     "text": [
      "=========== Lists =============\n",
      "[100, 5, 10, 15, 20, 25, 30, 35, 40]\n",
      "a[2] =  10\n",
      "a[0:3] =  [100, 5, 10]\n",
      "a[5:] =  [25, 30, 35, 40]\n",
      "100\n",
      "5\n",
      "10\n",
      "15\n",
      "20\n",
      "25\n",
      "30\n",
      "35\n",
      "40\n"
     ]
    }
   ],
   "source": [
    "print(\"=========== Lists =============\")\n",
    "\n",
    "a = [100,5,10,15,20,25,30,35,40]\n",
    "\n",
    "print(a)\n",
    "\n",
    "# a[2] = 15\n",
    "print(\"a[2] = \", a[2])\n",
    "\n",
    "# a[0:3] = [100, 5, 10]\n",
    "print(\"a[0:3] = \", a[0:3])\n",
    "\n",
    "# a[5:] = [25, 30, 35, 40]\n",
    "print(\"a[5:] = \", a[5:])\n",
    "\n",
    "for each in a:\n",
    "    print(each)\n"
   ]
  },
  {
   "cell_type": "code",
   "execution_count": 12,
   "metadata": {},
   "outputs": [
    {
     "name": "stdout",
     "output_type": "stream",
     "text": [
      "=========== Tuples =============\n",
      "t[1] =  program\n",
      "t[0:3] =  (5, 'program', (1+3j))\n",
      "<class 'int'>\n"
     ]
    }
   ],
   "source": [
    "print(\"=========== Tuples =============\")\n",
    "\n",
    "t = (5,'program', 1+3j)\n",
    "\n",
    "# t[1] = 'program'\n",
    "print(\"t[1] = \", t[1])\n",
    "\n",
    "# t[0:3] = (5, 'program', (1+3j))\n",
    "print(\"t[0:3] = \", t[0:3])\n",
    "\n",
    "# Generates error\n",
    "# Tuples are immutable\n",
    "# t[0] = 10\n",
    "\n",
    "# t = (5)\n",
    "# print(type(t))"
   ]
  },
  {
   "cell_type": "code",
   "execution_count": 10,
   "metadata": {},
   "outputs": [
    {
     "name": "stdout",
     "output_type": "stream",
     "text": [
      "=========== Sets =============\n",
      "a =  {1, 2, 3, 4, 5, 10}\n",
      "<class 'set'>\n",
      "a =  {1, 2, 3}\n",
      "<class 'dict'>\n",
      "1\n",
      "2\n",
      "3\n"
     ]
    }
   ],
   "source": [
    "print(\"=========== Sets =============\")\n",
    "\n",
    "a = {5,2,3,10,1,4}\n",
    "\n",
    "# printing set variable\n",
    "print(\"a = \", a)\n",
    "\n",
    "# data type of variable a\n",
    "print(type(a))\n",
    "\n",
    "a = {1,2,2,3,3,3}\n",
    "# printing set variable : Eliminates Duplicates\n",
    "print(\"a = \", a)\n",
    "\n",
    "d = {1:'value','key':2}\n",
    "print(type(d))\n",
    "\n",
    "for each in a:\n",
    "    print(each)"
   ]
  },
  {
   "cell_type": "code",
   "execution_count": 11,
   "metadata": {},
   "outputs": [
    {
     "name": "stdout",
     "output_type": "stream",
     "text": [
      "=========== Dictionary =============\n",
      "d[1] =  value\n",
      "d['key'] =  2\n",
      "value\n",
      "1  :  {1: 'value', 'key': 2}\n",
      "2  :  {1: 'value', 'key': 2}\n"
     ]
    }
   ],
   "source": [
    "print(\"=========== Dictionary =============\")\n",
    "\n",
    "print(\"d[1] = \", d[1]);\n",
    "\n",
    "print(\"d['key'] = \", d['key']);\n",
    "\n",
    "# Generates error\n",
    "# print(\"d[2] = \", d[2]);\n",
    "\n",
    "d = {1:{1:'value','key':2}, 2:{1:'value','key':2}}\n",
    "\n",
    "print(d[1][1])\n",
    "\n",
    "for k,v in d.items():\n",
    "    print(k,\" : \",v)"
   ]
  },
  {
   "cell_type": "code",
   "execution_count": null,
   "metadata": {},
   "outputs": [],
   "source": []
  }
 ],
 "metadata": {
  "kernelspec": {
   "display_name": "Python 3",
   "language": "python",
   "name": "python3"
  },
  "language_info": {
   "codemirror_mode": {
    "name": "ipython",
    "version": 3
   },
   "file_extension": ".py",
   "mimetype": "text/x-python",
   "name": "python",
   "nbconvert_exporter": "python",
   "pygments_lexer": "ipython3",
   "version": "3.7.5"
  }
 },
 "nbformat": 4,
 "nbformat_minor": 4
}
