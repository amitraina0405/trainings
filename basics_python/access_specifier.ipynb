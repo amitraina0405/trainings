{
 "cells": [
  {
   "cell_type": "code",
   "execution_count": 1,
   "metadata": {},
   "outputs": [],
   "source": [
    "# PUBLIC MEMBERS"
   ]
  },
  {
   "cell_type": "code",
   "execution_count": 4,
   "metadata": {},
   "outputs": [
    {
     "name": "stdout",
     "output_type": "stream",
     "text": [
      "Red juice\n"
     ]
    }
   ],
   "source": [
    "class Cup:\n",
    "    def __init__(self):\n",
    "        self.color = None\n",
    "        self.content = None\n",
    "\n",
    "    def fill(self, beverage):\n",
    "        self.content = beverage\n",
    "\n",
    "    def empty(self):\n",
    "        self.content = None\n",
    "    \n",
    "    def print_content(self):\n",
    "        print(self.color,self.content)\n",
    "\n",
    "obj = Cup()\n",
    "obj.fill(\"juice\")\n",
    "obj.color = \"Red\"\n",
    "obj.print_content()\n",
    "obj.empty()"
   ]
  },
  {
   "cell_type": "code",
   "execution_count": null,
   "metadata": {},
   "outputs": [],
   "source": [
    "# PROTECTED MEMBERS"
   ]
  },
  {
   "cell_type": "code",
   "execution_count": 17,
   "metadata": {},
   "outputs": [
    {
     "name": "stdout",
     "output_type": "stream",
     "text": [
      "Green tea\n",
      "Green None\n"
     ]
    }
   ],
   "source": [
    "class Cup:\n",
    "    def __init__(self):\n",
    "        self.color = \"Green\"\n",
    "        self._content = None # protected variable\n",
    "\n",
    "    def fill(self, beverage):\n",
    "        self._content = beverage\n",
    "\n",
    "    def _empty(self):\n",
    "        self._content = None\n",
    "    \n",
    "    def print_content(self):\n",
    "        print(self.color,self._content)\n",
    "        \n",
    "cup = Cup()\n",
    "cup._content = \"tea\"\n",
    "cup.print_content()\n",
    "cup._empty()\n",
    "cup.print_content()"
   ]
  },
  {
   "cell_type": "code",
   "execution_count": null,
   "metadata": {},
   "outputs": [],
   "source": [
    "# PRIVATE MEMBERS"
   ]
  },
  {
   "cell_type": "code",
   "execution_count": 20,
   "metadata": {},
   "outputs": [
    {
     "name": "stdout",
     "output_type": "stream",
     "text": [
      "red tea\n",
      "red tea\n",
      "red None\n"
     ]
    }
   ],
   "source": [
    "class Cup:\n",
    "    def __init__(self, color):\n",
    "        self._color = color    # protected variable\n",
    "        self.__content = None  # private variable\n",
    "\n",
    "    def fill(self, beverage):\n",
    "        self.__content = beverage\n",
    "\n",
    "    def __empty(self):\n",
    "        self.__content = None\n",
    "    \n",
    "    def print_content(self):\n",
    "        print(self._color,self.__content)\n",
    "        \n",
    "redCup = Cup(\"red\")\n",
    "\n",
    "# Private data attributes can be updated, only from within the class.\n",
    "redCup._Cup__content = \"tea\"\n",
    "redCup.print_content()\n",
    "\n",
    "# The wont give error but wont update the variable either\n",
    "redCup.__content = \"new_tea\"\n",
    "redCup.print_content()\n",
    "\n",
    "# Private methods cannot be called on the object directly, only from within the class.\n",
    "# Throws error\n",
    "# redCup.__empty()\n",
    "redCup._Cup__empty()\n",
    "redCup.print_content()"
   ]
  },
  {
   "cell_type": "code",
   "execution_count": null,
   "metadata": {},
   "outputs": [],
   "source": []
  }
 ],
 "metadata": {
  "kernelspec": {
   "display_name": "Python 3",
   "language": "python",
   "name": "python3"
  },
  "language_info": {
   "codemirror_mode": {
    "name": "ipython",
    "version": 3
   },
   "file_extension": ".py",
   "mimetype": "text/x-python",
   "name": "python",
   "nbconvert_exporter": "python",
   "pygments_lexer": "ipython3",
   "version": "3.6.1"
  }
 },
 "nbformat": 4,
 "nbformat_minor": 2
}
