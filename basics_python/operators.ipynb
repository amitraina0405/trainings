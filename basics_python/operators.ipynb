{
 "cells": [
  {
   "cell_type": "code",
   "execution_count": 1,
   "metadata": {},
   "outputs": [
    {
     "name": "stdout",
     "output_type": "stream",
     "text": [
      "=========== Arithmetic Operators =============\n",
      "x + y = 7\n",
      "x - y = 3\n",
      "x * y = 10\n",
      "x / y = 2.5\n",
      "x // y = 2\n",
      "x ** y = 25\n",
      "x % y = 1\n"
     ]
    }
   ],
   "source": [
    "# Operators\n",
    "\n",
    "print(\"=========== Arithmetic Operators =============\")\n",
    "\n",
    "x = 5\n",
    "y = 2\n",
    "\n",
    "# Output: x + y = 7\n",
    "print('x + y =', x + y)\n",
    "\n",
    "# Output: x - y = 3\n",
    "print('x - y =', x - y)\n",
    "\n",
    "# Output: x * y = 10\n",
    "print('x * y =', x * y)\n",
    "\n",
    "# Division Returns Exact Quotient\n",
    "# Output: x / y = 2.5\n",
    "print('x / y =', x / y)\n",
    "\n",
    "# Floor Division : Returns Quotient\n",
    "# Output: x // y = 2\n",
    "print('x // y =', x // y)\n",
    "\n",
    "# Exponent :\n",
    "# Output: x ** y = 25\n",
    "print('x ** y =', x ** y)\n",
    "\n",
    "# Modulas : Returns remainder\n",
    "print('x % y =', x % y)\n"
   ]
  },
  {
   "cell_type": "code",
   "execution_count": 2,
   "metadata": {},
   "outputs": [
    {
     "name": "stdout",
     "output_type": "stream",
     "text": [
      "=========== Comparision Operators =============\n",
      "x > y  is False\n",
      "y is greater\n",
      "x < y  is True\n",
      "x == y is False\n",
      "x != y is True\n",
      "x >= y is False\n",
      "x <= y is True\n"
     ]
    }
   ],
   "source": [
    "print(\"=========== Comparision Operators =============\")\n",
    "\n",
    "x = 10\n",
    "y = 12\n",
    "\n",
    "# Output: x > y is False\n",
    "print('x > y  is', x > y)\n",
    "\n",
    "if x>y:\n",
    "    print(\"X is greater\")\n",
    "else:\n",
    "    print(\"y is greater\")\n",
    "\n",
    "# Output: x < y is True\n",
    "print('x < y  is', x < y)\n",
    "\n",
    "# Output: x == y is False\n",
    "print('x == y is', x == y)\n",
    "\n",
    "# Output: x != y is True\n",
    "print('x != y is', x != y)\n",
    "\n",
    "# Output: x >= y is False\n",
    "print('x >= y is', x >= y)\n",
    "\n",
    "# Output: x <= y is True\n",
    "print('x <= y is', x <= y)\n"
   ]
  },
  {
   "cell_type": "code",
   "execution_count": 3,
   "metadata": {},
   "outputs": [
    {
     "name": "stdout",
     "output_type": "stream",
     "text": [
      "=========== Logical Operators =============\n",
      "x and y is False\n",
      "\"x or y\" is True\n",
      "\"not: \" is False\n"
     ]
    }
   ],
   "source": [
    "print(\"=========== Logical Operators =============\")\n",
    "\n",
    "x = True\n",
    "y = False\n",
    "\n",
    "# Output: x and y is False\n",
    "print('x and y is', x and y)\n",
    "\n",
    "# Output: x or y is True\n",
    "print('\"x or y\" is', x or y)\n",
    "\n",
    "# Output: not x is False\n",
    "print('\"not: \" is', not x)\n"
   ]
  },
  {
   "cell_type": "code",
   "execution_count": 4,
   "metadata": {},
   "outputs": [
    {
     "name": "stdout",
     "output_type": "stream",
     "text": [
      "=========== Identity Operators =============\n",
      "<class 'int'>\n",
      "print(type(x1) is int):::\n",
      "True\n",
      "False\n"
     ]
    }
   ],
   "source": [
    "# The identity operators in Python are used to determine whether a value is of a certain class or type.\n",
    "# They are usually used to determine the type of data a certain variable contains.\n",
    "\n",
    "print(\"=========== Identity Operators =============\")\n",
    "\n",
    "x1 = 5\n",
    "x2 = 'Hello'\n",
    "x3 = [1,2,3]\n",
    "\n",
    "# print(type(x1))\n",
    "print(\"print(type(x1) is int):::\")\n",
    "print(type(x1) is int)\n",
    "\n",
    "print(type(x1) is not int)\n"
   ]
  },
  {
   "cell_type": "code",
   "execution_count": 5,
   "metadata": {},
   "outputs": [
    {
     "name": "stdout",
     "output_type": "stream",
     "text": [
      "=========== Membership Operators =============\n",
      "True\n",
      "True\n",
      "True\n",
      "b\n",
      "False\n"
     ]
    }
   ],
   "source": [
    "# Membership operators are used to test if a sequence is present in an object:\n",
    "\n",
    "print(\"=========== Membership Operators =============\")\n",
    "\n",
    "x = 'Hello world'\n",
    "y = {1:'a','xoriant':'b'}\n",
    "\n",
    "# Output: True\n",
    "print('H' in x)\n",
    "\n",
    "# Output: True\n",
    "print('hello' not in x)\n",
    "\n",
    "# Output: True\n",
    "print(1 in y)\n",
    "\n",
    "if('xoriant' in y):\n",
    "    print(y['xoriant'])\n",
    "\n",
    "# Output: False\n",
    "print('a' in y)"
   ]
  },
  {
   "cell_type": "code",
   "execution_count": null,
   "metadata": {},
   "outputs": [],
   "source": []
  }
 ],
 "metadata": {
  "kernelspec": {
   "display_name": "Python 3",
   "language": "python",
   "name": "python3"
  },
  "language_info": {
   "codemirror_mode": {
    "name": "ipython",
    "version": 3
   },
   "file_extension": ".py",
   "mimetype": "text/x-python",
   "name": "python",
   "nbconvert_exporter": "python",
   "pygments_lexer": "ipython3",
   "version": "3.7.5"
  }
 },
 "nbformat": 4,
 "nbformat_minor": 4
}
