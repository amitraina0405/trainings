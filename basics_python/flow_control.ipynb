{
 "cells": [
  {
   "cell_type": "code",
   "execution_count": 1,
   "metadata": {},
   "outputs": [
    {
     "name": "stdout",
     "output_type": "stream",
     "text": [
      "=========== if =============\n",
      "3 is a positive number.\n",
      "This is always printed.\n",
      "This is also always printed.\n"
     ]
    }
   ],
   "source": [
    "\n",
    "print(\"=========== if =============\")\n",
    "\n",
    "# If the number is positive, we print an appropriate message\n",
    "\n",
    "num = 3\n",
    "if num > 0:\n",
    "    print(num, \"is a positive number.\")\n",
    "    \n",
    "print(\"This is always printed.\")\n",
    "\n",
    "num = 5\n",
    "if num > 10:\n",
    "    print(num, \"is a positive number.\")\n",
    "print(\"This is also always printed.\")"
   ]
  },
  {
   "cell_type": "code",
   "execution_count": 2,
   "metadata": {},
   "outputs": [
    {
     "name": "stdout",
     "output_type": "stream",
     "text": [
      "-8 is a negative number.\n"
     ]
    }
   ],
   "source": [
    "#  if .. else\n",
    "\n",
    "num = -8\n",
    "if num > 0:\n",
    "    print(num, \"is a positive number.\")  \n",
    "else:\n",
    "    print(num, \"is a negative number.\")\n",
    "\n"
   ]
  },
  {
   "cell_type": "code",
   "execution_count": 7,
   "metadata": {},
   "outputs": [
    {
     "name": "stdout",
     "output_type": "stream",
     "text": [
      "-9 is a negative number.\n"
     ]
    }
   ],
   "source": [
    "#  if ... elif ... else\n",
    "\n",
    "num = -9\n",
    "if num > 0:\n",
    "    print(num, \"is a positive number.\")\n",
    "elif num == 0:\n",
    "    print(num, \"is ZERO.\")\n",
    "elif num < 0:\n",
    "    print(num, \"is a negative number.\")\n",
    "else:\n",
    "    print(\"INVALID NUMBER\")\n"
   ]
  },
  {
   "cell_type": "code",
   "execution_count": null,
   "metadata": {},
   "outputs": [],
   "source": [
    "\n",
    "num = 3\n",
    "\n",
    "# Try these two variations as well.\n",
    "# num = -5\n",
    "# num = 0\n",
    "\n",
    "if num >= 0:\n",
    "    print(\"Positive or Zero\")\n",
    "else:\n",
    "    print(\"Negative number\")\n",
    "\n",
    "num = 3.4\n",
    "\n",
    "# Try these two variations as well:\n",
    "# num = 0\n",
    "# num = -4.5\n",
    "\n",
    "if num > 0:\n",
    "    print(\"Positive number\")\n",
    "elif num == 0:\n",
    "    print(\"Zero\")\n",
    "else:\n",
    "    print(\"Negative number\")\n",
    "\n"
   ]
  },
  {
   "cell_type": "code",
   "execution_count": 4,
   "metadata": {},
   "outputs": [
    {
     "name": "stdout",
     "output_type": "stream",
     "text": [
      "=========== for loop =============\n",
      "Num:  1\n",
      "Num:  2\n",
      "Num:  3\n",
      "Num:  4\n",
      "Num:  5\n",
      "The sum is 15\n",
      "0\n",
      "1\n",
      "5\n",
      "No items left.\n"
     ]
    }
   ],
   "source": [
    "print(\"=========== for loop =============\")\n",
    "\n",
    "# Program to find the sum of all numbers stored in a list\n",
    "\n",
    "# List of numbers\n",
    "numbers = [1, 2, 3, 4, 5]\n",
    "\n",
    "# variable to store the sum\n",
    "sum=0\n",
    "\n",
    "# iterate over the list\n",
    "for num in numbers:\n",
    "    print(\"Num: \",num)\n",
    "    sum = sum+num\n",
    "\n",
    "# Output: The sum is 15\n",
    "print(\"The sum is\", sum)\n",
    "\n",
    "# A for loop can have an optional else block as well. The else part is executed if the items in the sequence used in for \n",
    "# loop exhausts.\n",
    "\n",
    "digits = [0, 1, 5]\n",
    "\n",
    "# for i in range(len(digits)):\n",
    "for i in digits:\n",
    "    print(i)\n",
    "else:\n",
    "    print(\"No items left.\")\n"
   ]
  },
  {
   "cell_type": "code",
   "execution_count": 5,
   "metadata": {},
   "outputs": [
    {
     "name": "stdout",
     "output_type": "stream",
     "text": [
      "=========== while loop =============\n",
      "i:: 11\n",
      "The sum is 55\n",
      "Inside loop\n",
      "Inside loop\n",
      "Inside loop\n",
      "Inside else\n"
     ]
    }
   ],
   "source": [
    "print(\"=========== while loop =============\")\n",
    "\n",
    "n = 10\n",
    "\n",
    "# initialize sum and counter\n",
    "sum = 0\n",
    "i = 1\n",
    "\n",
    "while i <= n:\n",
    "    sum = sum + i\n",
    "    i = i+1    # update counter\n",
    "\n",
    "print(\"i::\",i)\n",
    "# print the sum\n",
    "print(\"The sum is\", sum)\n",
    "\n",
    "counter = 0\n",
    "\n",
    "# The else part is executed if the condition in the while loop evaluates to False.\n",
    "\n",
    "while counter < 3:\n",
    "    print(\"Inside loop\")\n",
    "    counter = counter + 1\n",
    "else:\n",
    "    print(\"Inside else\")"
   ]
  },
  {
   "cell_type": "code",
   "execution_count": 7,
   "metadata": {},
   "outputs": [
    {
     "name": "stdout",
     "output_type": "stream",
     "text": [
      "=========== break statement =============\n",
      "s\n",
      "t\n",
      "r\n",
      "The end\n",
      "=========== continue statement =============\n",
      "s\n",
      "t\n",
      "r\n",
      "n\n",
      "g\n",
      "The end\n"
     ]
    }
   ],
   "source": [
    "print(\"=========== break statement =============\")\n",
    "\n",
    "# Use of break statement inside loop\n",
    "\n",
    "for val in \"string\":\n",
    "    if val == \"i\":\n",
    "        break\n",
    "    print(val)\n",
    "\n",
    "print(\"The end\")\n",
    "\n",
    "print(\"=========== continue statement =============\")\n",
    "\n",
    "# Program to show the use of continue statement inside loops\n",
    "\n",
    "for val in \"string\":\n",
    "    if val == \"i\":\n",
    "        continue\n",
    "    print(val)\n",
    "    print(\"ritu\")\n",
    "\n",
    "print(\"The end\")\n",
    "\n",
    "for val in \"string\":\n",
    "    pass"
   ]
  },
  {
   "cell_type": "code",
   "execution_count": 9,
   "metadata": {},
   "outputs": [],
   "source": [
    "for val in \"test\":\n",
    "    # test comment\n",
    "    pass"
   ]
  },
  {
   "cell_type": "code",
   "execution_count": null,
   "metadata": {},
   "outputs": [],
   "source": []
  }
 ],
 "metadata": {
  "kernelspec": {
   "display_name": "Python 3",
   "language": "python",
   "name": "python3"
  },
  "language_info": {
   "codemirror_mode": {
    "name": "ipython",
    "version": 3
   },
   "file_extension": ".py",
   "mimetype": "text/x-python",
   "name": "python",
   "nbconvert_exporter": "python",
   "pygments_lexer": "ipython3",
   "version": "3.7.5"
  }
 },
 "nbformat": 4,
 "nbformat_minor": 4
}
